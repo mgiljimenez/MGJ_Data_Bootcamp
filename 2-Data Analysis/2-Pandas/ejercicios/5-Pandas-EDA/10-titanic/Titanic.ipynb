{
 "cells": [
  {
   "cell_type": "markdown",
   "metadata": {},
   "source": [
    "   #                                                  Titanic Exercise \n",
    "\n",
    "   ![titanic](https://userscontent2.emaze.com/images/a5f68f37-6349-4065-a1fc-921cbe7401b2/958230111417e36d6b3c67ffd7bc3494.jpeg)\n",
    "   #### Practise Pandas"
   ]
  },
  {
   "cell_type": "markdown",
   "metadata": {},
   "source": [
    "En primer lugar, importa las bibliotecas necesarias. "
   ]
  },
  {
   "cell_type": "code",
   "execution_count": 18,
   "metadata": {},
   "outputs": [],
   "source": [
    "import numpy as np\n",
    "import pandas as pd\n",
    "import random"
   ]
  },
  {
   "cell_type": "markdown",
   "metadata": {},
   "source": [
    "### 1. Lee el nombre del archivo y llama a la variable `titanic`.\n",
    "    - Explora el conjunto de datos `titanic` utilizando `info`, `dtypes` y `describe`.\n",
    " "
   ]
  },
  {
   "cell_type": "markdown",
   "metadata": {},
   "source": [
    "### 2. Crea un dataframe separado con las columnas `['name', 'sex', 'age']`, llámalo people\n",
    "\n",
    "Se puede hacer de dos maneras, ¡hazlo de las dos formas!"
   ]
  },
  {
   "cell_type": "markdown",
   "metadata": {},
   "source": [
    "### 3. Imprime la salida de `people` mostrando las tres primeras filas y las cuatro últimas, utilizando `append`, `tail` y `head`"
   ]
  },
  {
   "cell_type": "markdown",
   "metadata": {},
   "source": [
    "### 4. Haz slicing la fila del 3 al 9, llámala `s_titanic`."
   ]
  },
  {
   "cell_type": "markdown",
   "metadata": {},
   "source": [
    "### 5. Haz slicing la fila del 40 al 63 en orden inverso, llámalo `s_titanic_rev`."
   ]
  },
  {
   "cell_type": "markdown",
   "metadata": {},
   "source": [
    "### 6. Haz slicing de las columnas desde la columna inicial hasta `'parch'`, llámalo `left_columns`."
   ]
  },
  {
   "cell_type": "markdown",
   "metadata": {},
   "source": [
    "### 7. Corta las columnas desde `'name'` hasta `'age'`, llámalo `middle_columns`.\n"
   ]
  },
  {
   "cell_type": "markdown",
   "metadata": {},
   "source": [
    "### 8. Haz slicing de las columnas desde `'ticket'` hasta el final, llámalo `right_columns`.\n"
   ]
  },
  {
   "cell_type": "markdown",
   "metadata": {},
   "source": [
    "### 9. ¿Cuál es el nombre de la persona de más edad que murió en el Titanic? ¿Viajaba solo o tenía algún familiar que viajara con él?  "
   ]
  },
  {
   "cell_type": "markdown",
   "metadata": {},
   "source": [
    "Para dar una respuesta a la segunda pregunta deberías averiguar qué columnas te dan esa información. Normalmente, parte de tu trabajo como científico de datos será conocer el conjunto de datos con el que estás trabajando. En este caso, las columnas que dan esa información son las siguientes: \n",
    "- 'sibsp' Número de hermanos/cónyuges a bordo\n",
    "- 'parch' Número de padres/hijos a bordo"
   ]
  },
  {
   "cell_type": "markdown",
   "metadata": {},
   "source": [
    "### 10. Crea la lista de 5 números aleatorios de filas desde 0 hasta el largo del dataframe, llámalo `rows`.\n",
    "\n",
    "Ej. `rows = [3,7,99,52,48]` usando la librería `random`\n",
    "\n"
   ]
  },
  {
   "cell_type": "markdown",
   "metadata": {},
   "source": [
    "Esta lista de números es aleatoria, podría ser diferente.\n"
   ]
  },
  {
   "cell_type": "markdown",
   "metadata": {},
   "source": [
    "### 11. Crea la lista de etiquetas de tres columnas, llámala `cols`.\n"
   ]
  },
  {
   "cell_type": "markdown",
   "metadata": {},
   "source": [
    "### 12. Utiliza ambas listas `rows` y `cols` para crear un nuevo dataframe"
   ]
  },
  {
   "cell_type": "markdown",
   "metadata": {},
   "source": [
    "\n",
    "### 13. Crea un array booleano con la condición de ser mujer u hombre, utilizando la columna `sex`, donde **femenino** es True. Llámalo `array_fe`."
   ]
  },
  {
   "cell_type": "markdown",
   "metadata": {},
   "source": [
    "### 14. Cambia el nombre de la columna `\"sex\"` por `\"gender\"` y filtra el dataframe `titanic` con el array booleano, llámalo `woman_titanic`."
   ]
  },
  {
   "cell_type": "markdown",
   "metadata": {},
   "source": [
    "### 15. ¿Cuántas mujeres eran menores de 18 años? Llama a la variable `menor_wo`"
   ]
  },
  {
   "cell_type": "markdown",
   "metadata": {},
   "source": [
    "### 16. ¿Cuántas mujeres menores de 18 años murieron realmente? Llama a la variable `dead_wo`"
   ]
  },
  {
   "cell_type": "markdown",
   "metadata": {},
   "source": [
    "### 17. Eliminar las filas con *Nan* en `titanic` con `how='any'` e imprimir el shape"
   ]
  },
  {
   "cell_type": "markdown",
   "metadata": {},
   "source": [
    "### 18. Eliminar las filas con *Nan* en `titanic` con `how='all'` e imprimir el shape\n"
   ]
  },
  {
   "cell_type": "markdown",
   "metadata": {},
   "source": [
    "### 19. Elimina las columnas de `titanic` con más de 1000 valores perdidos e imprime las columnas restantes"
   ]
  },
  {
   "cell_type": "markdown",
   "metadata": {},
   "source": [
    "### 20. Calcular la proporción de valores perdidos en la columna `boat`."
   ]
  },
  {
   "cell_type": "markdown",
   "metadata": {},
   "source": [
    "### 21.  Agrupa `titanic` por `'pclass` y agrega por las columnas `age` & `fare`, por `max` y `median` y asignalo a `by_class`"
   ]
  },
  {
   "cell_type": "markdown",
   "metadata": {},
   "source": [
    "### 22. Imprime la edad máxima en cada clase de `by_class`"
   ]
  },
  {
   "cell_type": "markdown",
   "metadata": {},
   "source": [
    "### 23. Imprime la mediana de la tarifa de cada clase de `by_class`."
   ]
  },
  {
   "cell_type": "markdown",
   "metadata": {},
   "source": [
    "### 24. Usando [`.pivot_table()`](https://pandas.pydata.org/pandas-docs/stable/reference/api/pandas.pivot_table.html) para contar cuántas mujeres u hombres sobrevivieron por clase, llámalo `counted`."
   ]
  },
  {
   "cell_type": "markdown",
   "metadata": {},
   "source": [
    "### 25. Añade una nueva columna con la suma de hombres y mujeres supervivientes, llámala `counted['total']`. \n"
   ]
  },
  {
   "cell_type": "markdown",
   "metadata": {},
   "source": [
    "### 26. Ordena el `counted` por la columna `total`. ¿En qué clase han sobrevivido más personas?"
   ]
  },
  {
   "cell_type": "markdown",
   "metadata": {},
   "source": [
    "### 27. Muestra sólo las filas con una máscara con las siguientes condiciones: \n",
    "    - Son mujer\n",
    "    - De tercera clase\n",
    "    - Menores de 30 años\n",
    "    - Han sobrevivido\n",
    "    \n",
    "    ¿Cuántas filas cumplen la condición?"
   ]
  },
  {
   "cell_type": "markdown",
   "metadata": {},
   "source": [
    "### 28. Ahora, muestra sólo las filas que utilizan `.loc` con las siguientes condiciones: \n",
    "    - Son hombre\n",
    "    - De primera clase\n",
    "    - Mayores de 50 años\n",
    "    - Han muerto\n",
    "    \n",
    "    ¿Cuántas filas cumplen la condición?"
   ]
  },
  {
   "cell_type": "markdown",
   "metadata": {},
   "source": [
    "### 29. Imprime los valores únicos en la columna `'nombre'`"
   ]
  },
  {
   "cell_type": "markdown",
   "metadata": {},
   "source": [
    "### 30. Encuentra si hubo algún `nombre` repetido en el Titanic.\n",
    "\n",
    "Pista: Había dos personas con el mismo nombre, ¿quiénes?"
   ]
  },
  {
   "cell_type": "markdown",
   "metadata": {},
   "source": [
    "### 31. Usando `matplotlib` encuentra la visualización apropiada para mostrar la distribución de la columna `'edad''"
   ]
  },
  {
   "cell_type": "code",
   "execution_count": 125,
   "metadata": {},
   "outputs": [],
   "source": [
    "import matplotlib.pyplot as plt"
   ]
  },
  {
   "cell_type": "markdown",
   "metadata": {},
   "source": [
    "### 32. Usando `matplotlib` encuentra el gráfico apropiado para visualizar la columna `'gender'`"
   ]
  },
  {
   "cell_type": "markdown",
   "metadata": {},
   "source": [
    "32b. ¿Qué pasa si también pintas la columna `'gender'` usando la función [`countplot`](https://seaborn.pydata.org/generated/seaborn.countplot.html) de la librería [`seaborn`](https://seaborn.pydata.org/)?"
   ]
  },
  {
   "cell_type": "markdown",
   "metadata": {},
   "source": [
    "### 33. Utilizando la función [`catplot`](https://seaborn.pydata.org/generated/seaborn.catplot.html) de la biblioteca `seaborn`, averigua si la hipótesis _\"Las mujeres tienen más probabilidades de sobrevivir a los naufragios\"_ es cierta o no."
   ]
  },
  {
   "cell_type": "markdown",
   "metadata": {},
   "source": [
    "![catplot](./img/catplotgen.png)"
   ]
  },
  {
   "cell_type": "markdown",
   "metadata": {},
   "source": [
    "### 34. Usando [`kdeplot`](\"https://seaborn.pydata.org/generated/seaborn.kdeplot.html\") de `seaborn` represente los que no sobrevivieron distribuidos por edad.\n",
    "\n",
    "Sugerencia: Primero debes \"filtrar\" el conjunto de datos `titanic` donde la columna \"survived\" es 0, indexando la columna `\"age\"` solamente.\n",
    "\n",
    "Argumentos que debes pasar a la función: \n",
    "\n",
    "    - color = \"rojo\"\n",
    "    - label = \"No sobrevivido\"\n",
    "    - shade = True\n",
    "    \n",
    "Deberías obtener algo como esto:"
   ]
  },
  {
   "cell_type": "markdown",
   "metadata": {},
   "source": [
    "![kdeplot](./img/kdeplotsur.png)"
   ]
  }
 ],
 "metadata": {
  "kernelspec": {
   "display_name": "Python 3.7.9 64-bit",
   "language": "python",
   "name": "python3"
  },
  "language_info": {
   "codemirror_mode": {
    "name": "ipython",
    "version": 3
   },
   "file_extension": ".py",
   "mimetype": "text/x-python",
   "name": "python",
   "nbconvert_exporter": "python",
   "pygments_lexer": "ipython3",
   "version": "3.7.9"
  },
  "vscode": {
   "interpreter": {
    "hash": "ec2a379ed5c25334a484232182c9d38ef8bd9861e2542d0c517568c4f99a9a7c"
   }
  }
 },
 "nbformat": 4,
 "nbformat_minor": 4
}
