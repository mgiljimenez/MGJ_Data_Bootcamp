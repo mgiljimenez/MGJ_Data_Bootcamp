{
  "cells": [
    {
      "cell_type": "markdown",
      "metadata": {
        "id": "uPlI7d1zAdEq"
      },
      "source": [
        "# INFORMACIÓN DEL PROYECTO"
      ]
    },
    {
      "cell_type": "markdown",
      "metadata": {
        "id": "b7xjevSYAdEr"
      },
      "source": [
        "### TÍTULO"
      ]
    },
    {
      "cell_type": "markdown",
      "metadata": {
        "id": "rxlKgZKpAdEs"
      },
      "source": [
        "Análisis de los aeropuertos mejores conectaos del mundo"
      ]
    },
    {
      "cell_type": "markdown",
      "metadata": {
        "id": "T9KxHJexAdEs"
      },
      "source": [
        "### TEMA"
      ]
    },
    {
      "attachments": {},
      "cell_type": "markdown",
      "metadata": {
        "id": "2ubMG_jdAdEt"
      },
      "source": [
        "El EDA va a consistir en analizar una base de datos de aviación y analizar cuáles son los aeropuertos mejores conectados del mundo, estudiar por qué es así y comprobar si coincide que estos aeropuertos estén en las capitales de los países. "
      ]
    },
    {
      "cell_type": "markdown",
      "metadata": {
        "id": "SjWBpZ0mAdEu"
      },
      "source": [
        "### HIPÓTESIS"
      ]
    },
    {
      "attachments": {},
      "cell_type": "markdown",
      "metadata": {
        "id": "G1NUbFD-AdEv"
      },
      "source": [
        "Las capitales de los paises, son las ciudades mejores conectadas por avión del mundo"
      ]
    },
    {
      "cell_type": "markdown",
      "metadata": {
        "id": "RW9Tar54AdEv"
      },
      "source": [
        "## OBTENCIÓN DE LOS DATOS"
      ]
    },
    {
      "attachments": {},
      "cell_type": "markdown",
      "metadata": {
        "id": "cmHGUHxbAdEw"
      },
      "source": [
        "### Incluye aquí una breve descripción del dataset o datasets de los que partirás para poder evaluar tu hipótesis. También incluye el origen de estos datos y su fuente."
      ]
    },
    {
      "attachments": {},
      "cell_type": "markdown",
      "metadata": {
        "id": "9k_V6x7AAdEx"
      },
      "source": [
        "Datasets generados por Flightradar24 y OpenSky Network en colaboración [ENLACE](https://opensky-network.org/)\n",
        "\n",
        "Actualmente estoy que aprueben la solicitud de acceso a la API (Es pública y gratuita pero requiere que acepten acceso)\n",
        "\n",
        "Incluyen los siguientes Datos:\n",
        "-   Registro de todos los aviones de línea aérea\n",
        "-   Datos en directo de todos los vuelos\n",
        "-   Datos de todos los vuelos históricos\n",
        "  "
      ]
    }
  ],
  "metadata": {
    "colab": {
      "name": "1-Definicion_EDA.ipynb",
      "provenance": []
    },
    "interpreter": {
      "hash": "7c77fdb427e7cbc9bc1367dd530fc2b36aacdbbde1ac83c85833b10dfa8b831c"
    },
    "kernelspec": {
      "display_name": "Python 3.7.4 64-bit",
      "language": "python",
      "name": "python3"
    },
    "language_info": {
      "codemirror_mode": {
        "name": "ipython",
        "version": 3
      },
      "file_extension": ".py",
      "mimetype": "text/x-python",
      "name": "python",
      "nbconvert_exporter": "python",
      "pygments_lexer": "ipython3",
      "version": "3.7.4"
    },
    "orig_nbformat": 4
  },
  "nbformat": 4,
  "nbformat_minor": 0
}
