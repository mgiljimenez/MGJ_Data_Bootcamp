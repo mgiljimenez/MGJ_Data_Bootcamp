{
 "cells": [
  {
   "cell_type": "markdown",
   "metadata": {},
   "source": [
    "# Ejercicio de repaso: BBDD Relacionales"
   ]
  },
  {
   "cell_type": "markdown",
   "metadata": {},
   "source": [
    "Ejercicio sacado directamente de una entrevista de trabajo para una conocida compañía de retail."
   ]
  },
  {
   "attachments": {},
   "cell_type": "markdown",
   "metadata": {},
   "source": [
    "![tablas1](../../../img/Tablas-1.png)\n",
    "![tablas3](../../../img/Tablas-3.png)"
   ]
  },
  {
   "cell_type": "code",
   "execution_count": 1,
   "metadata": {},
   "outputs": [],
   "source": [
    "import numpy as np\n",
    "import pandas as pd\n",
    "import sqlite3\n",
    "# Conectamos con la base de datos chinook.db\n",
    "connection = sqlite3.connect(\"ECI.db\")\n",
    "# Obtenemos un cursor que utilizaremos para hacer las queries\n",
    "crsr = connection.cursor()\n",
    "\n",
    "# Con esta función leemos los datos y lo pasamos a un DataFrame de Pandas\n",
    "def sql_query(query):\n",
    "\n",
    "    # Ejecuta la query\n",
    "    crsr.execute(query)\n",
    "\n",
    "    # Almacena los datos de la query \n",
    "    ans = crsr.fetchall()\n",
    "\n",
    "    # Obtenemos los nombres de las columnas de la tabla\n",
    "    names = [description[0] for description in crsr.description]\n",
    "\n",
    "    return pd.DataFrame(ans,columns=names)\n",
    "\n"
   ]
  },
  {
   "cell_type": "markdown",
   "metadata": {},
   "source": [
    "## 1. Crea un DataFrame por cada tabla"
   ]
  },
  {
   "cell_type": "code",
   "execution_count": 2,
   "metadata": {},
   "outputs": [],
   "source": [
    "dict_DEPTO_CAMPANIA = {'ID_DPTO':['1','1','2', '3', '3', '3', '4', '4', '4', '4'],\n",
    "                'ID_CAMPANIA':['CA1', 'CA4', 'CA2', 'CA2', 'CA5', 'CA6', 'CA1', 'CA2', 'CA3', 'CA6']}\n",
    "DEPTO_CAMPANIA = pd.DataFrame(dict_DEPTO_CAMPANIA)\n",
    "\n",
    "DATA_DEPARTAMENTOS = {\n",
    "        'ID_DPTO': ['1', '2', '3', '4'],\n",
    "        'DESC_DPTO': ['JOYERIA', 'BOLSOS', 'ZAPATERIA', 'BAÑO CAB.']}\n",
    "DEPARTAMENTO = pd.DataFrame(DATA_DEPARTAMENTOS)\n",
    "\n",
    "familia = [['1', '1', '2', '3', '3', '4'], \n",
    "           ['1F1', '1F2', '2F1', '3F1', '3F2', '4F1'], \n",
    "           ['PULSERAS', 'ANILLOS', 'BOLSOS DE MANO', 'NAUTICO', 'SANDALIAS', 'BERMUDAS']]\n",
    "\n",
    "columnas = ['ID_DPTO', 'COD_FAMILIA', 'DESC_FAMILIA']\n",
    "FAMILIA = pd.DataFrame(dict(zip(columnas, familia)))\n",
    "\n",
    "dic_campanias =  { \"ID_CAMPANIA\" : [\"CA1\", \"CA2\", \"CA3\", \"CA4\", \"CA5\", \"CA6\"], \"TIPO\": [\"VENTA\", \"VENTA\", \"POSVENTA\", \"VENTA\", \"POSVENTA\", \"POSVENTA\"], \"FECHA_CAMP\" : [\"05/02/2012\", \"04/02/2012\", \"02/10/2009\", \"06/05/2010\", \"30/11/2010\", \"07/02/2015\"] }\n",
    "CAMPANIA = pd.DataFrame(dic_campanias)\n",
    "\n",
    "Referencias = pd.Series(['A','B','C','D','E','F','G','H'])\n",
    "ID_DPTO = pd.Series(['1','2','2','2','2','3','3','4'])\n",
    "COD_FAMILIA =pd.Series(['1F1','2F1','2F1','2F1','2F1','3F1','3F2','4F1'])\n",
    "FECHA_ALTA = pd.Series(['21/02/2010','07/02/2014','15/05/2014','01/10/2005','31/10/2010','20/04/2001','14/02/2015','25/03/2009'])\n",
    "ARTICULO = pd.DataFrame({'REFERENCIA': Referencias,'ID_DPTO': ID_DPTO,'COD_FAMILIA':COD_FAMILIA,'FECHA_ALTA':FECHA_ALTA})\n",
    "\n",
    "talon = ['01', '02', '03', '04', '05', '06', '07', '08']\n",
    "referencia = ['A', 'A', 'A', 'D', 'E', 'E', 'H', 'H']\n",
    "precio = [15, 18, 14, 37.95, 125.90, 150, 22.99, 24]\n",
    "fecha_venta = ['11/02/2012', '15/02/2012', '02/10/2013', '06/08/2010', '30/11/2010', '05/02/2011', '11/04/2011', '08/08/2011']\n",
    "VENTA = pd.DataFrame({'TALON':talon,\n",
    "                    'REFERENCIA':referencia,\n",
    "                    'PRECIO':precio,\n",
    "                    'FECHA_VENTA':fecha_venta})"
   ]
  },
  {
   "cell_type": "code",
   "execution_count": 3,
   "metadata": {},
   "outputs": [],
   "source": [
    "DEPTO_CAMPANIA.to_sql('DEPTO_CAMPANIA', connection, if_exists='replace', index=False)\n",
    "DEPARTAMENTO.to_sql('DEPARTAMENTO', connection, if_exists='replace', index=False)\n",
    "FAMILIA.to_sql('FAMILIA', connection, if_exists='replace', index=False)\n",
    "CAMPANIA.to_sql('CAMPANIA', connection, if_exists='replace', index=False)\n",
    "ARTICULO.to_sql('ARTICULO', connection, if_exists='replace', index=False)\n",
    "VENTA.to_sql('VENTA', connection, if_exists='replace', index=False)\n",
    "connection.commit()"
   ]
  },
  {
   "cell_type": "markdown",
   "metadata": {},
   "source": [
    "## 2. Genera una consulta que obtenga la lista ordenada de todas las referencias sin venta"
   ]
  },
  {
   "cell_type": "code",
   "execution_count": null,
   "metadata": {},
   "outputs": [],
   "source": []
  },
  {
   "cell_type": "markdown",
   "metadata": {},
   "source": [
    "## 3. Genera una consulta que obtenga las ventas comprendidas entre 2010 y 2011 (ambos incluidos), que estén asociados a una campaña de tipo VENTA y que sean del departamento de JOYERÍA."
   ]
  },
  {
   "cell_type": "code",
   "execution_count": null,
   "metadata": {},
   "outputs": [],
   "source": []
  },
  {
   "cell_type": "markdown",
   "metadata": {},
   "source": [
    "## 4. Genere una consulta que cree un campo “co_ranking” que clasifique en orden ascendente las campañas según el total de venta, siendo 1 la campaña que más ha vendido y N la que menos. (N = Total de campañas)"
   ]
  },
  {
   "cell_type": "code",
   "execution_count": 13,
   "metadata": {},
   "outputs": [
    {
     "data": {
      "text/html": [
       "<div>\n",
       "<style scoped>\n",
       "    .dataframe tbody tr th:only-of-type {\n",
       "        vertical-align: middle;\n",
       "    }\n",
       "\n",
       "    .dataframe tbody tr th {\n",
       "        vertical-align: top;\n",
       "    }\n",
       "\n",
       "    .dataframe thead th {\n",
       "        text-align: right;\n",
       "    }\n",
       "</style>\n",
       "<table border=\"1\" class=\"dataframe\">\n",
       "  <thead>\n",
       "    <tr style=\"text-align: right;\">\n",
       "      <th></th>\n",
       "      <th>ID_CAMPANIA</th>\n",
       "      <th>total_vendido</th>\n",
       "      <th>co_ranking</th>\n",
       "    </tr>\n",
       "  </thead>\n",
       "  <tbody>\n",
       "    <tr>\n",
       "      <th>0</th>\n",
       "      <td>CA2</td>\n",
       "      <td>360.84</td>\n",
       "      <td>1</td>\n",
       "    </tr>\n",
       "    <tr>\n",
       "      <th>1</th>\n",
       "      <td>CA1</td>\n",
       "      <td>93.99</td>\n",
       "      <td>2</td>\n",
       "    </tr>\n",
       "    <tr>\n",
       "      <th>2</th>\n",
       "      <td>CA4</td>\n",
       "      <td>47.00</td>\n",
       "      <td>3</td>\n",
       "    </tr>\n",
       "    <tr>\n",
       "      <th>3</th>\n",
       "      <td>CA3</td>\n",
       "      <td>46.99</td>\n",
       "      <td>4</td>\n",
       "    </tr>\n",
       "    <tr>\n",
       "      <th>4</th>\n",
       "      <td>CA6</td>\n",
       "      <td>46.99</td>\n",
       "      <td>5</td>\n",
       "    </tr>\n",
       "    <tr>\n",
       "      <th>5</th>\n",
       "      <td>CA5</td>\n",
       "      <td>NaN</td>\n",
       "      <td>6</td>\n",
       "    </tr>\n",
       "  </tbody>\n",
       "</table>\n",
       "</div>"
      ],
      "text/plain": [
       "  ID_CAMPANIA  total_vendido  co_ranking\n",
       "0         CA2         360.84           1\n",
       "1         CA1          93.99           2\n",
       "2         CA4          47.00           3\n",
       "3         CA3          46.99           4\n",
       "4         CA6          46.99           5\n",
       "5         CA5            NaN           6"
      ]
     },
     "execution_count": 13,
     "metadata": {},
     "output_type": "execute_result"
    }
   ],
   "source": [
    "sql_query(\"\"\"\n",
    "        SELECT c.id_campania, sum(v.precio) as total_vendido, ROW_NUMBER() OVER (ORDER BY sum(v.precio) DESC) as co_ranking\n",
    "\n",
    "          FROM campania c\n",
    "\n",
    "          LEFT JOIN DEPTO_CAMPANIA dp\n",
    "          ON c.id_campania=dp.id_campania\n",
    "\n",
    "          LEFT JOIN ARTICULO a\n",
    "          ON dp.id_dpto=a.id_dpto\n",
    "\n",
    "          LEFT JOIN VENTA v\n",
    "          ON a.referencia=v.referencia\n",
    "\n",
    "          GROUP BY c.id_campania\n",
    "          ;\"\"\")"
   ]
  },
  {
   "cell_type": "markdown",
   "metadata": {},
   "source": [
    "## 5. Clasifique todas las ventas en Mayor, Igual o Menor precio respecto a la media de los precios de todas las ventas realizadas."
   ]
  },
  {
   "attachments": {},
   "cell_type": "markdown",
   "metadata": {},
   "source": [
    "**Resultado**:\n",
    "\n",
    "\n",
    "![tablares](../../../img/Tablas-4.png)"
   ]
  },
  {
   "cell_type": "code",
   "execution_count": 5,
   "metadata": {},
   "outputs": [
    {
     "data": {
      "text/html": [
       "<div>\n",
       "<style scoped>\n",
       "    .dataframe tbody tr th:only-of-type {\n",
       "        vertical-align: middle;\n",
       "    }\n",
       "\n",
       "    .dataframe tbody tr th {\n",
       "        vertical-align: top;\n",
       "    }\n",
       "\n",
       "    .dataframe thead th {\n",
       "        text-align: right;\n",
       "    }\n",
       "</style>\n",
       "<table border=\"1\" class=\"dataframe\">\n",
       "  <thead>\n",
       "    <tr style=\"text-align: right;\">\n",
       "      <th></th>\n",
       "      <th>TALON</th>\n",
       "      <th>PRECIO</th>\n",
       "      <th>Clasificacion</th>\n",
       "    </tr>\n",
       "  </thead>\n",
       "  <tbody>\n",
       "    <tr>\n",
       "      <th>0</th>\n",
       "      <td>01</td>\n",
       "      <td>15.00</td>\n",
       "      <td>Menor</td>\n",
       "    </tr>\n",
       "    <tr>\n",
       "      <th>1</th>\n",
       "      <td>02</td>\n",
       "      <td>18.00</td>\n",
       "      <td>Menor</td>\n",
       "    </tr>\n",
       "    <tr>\n",
       "      <th>2</th>\n",
       "      <td>03</td>\n",
       "      <td>14.00</td>\n",
       "      <td>Menor</td>\n",
       "    </tr>\n",
       "    <tr>\n",
       "      <th>3</th>\n",
       "      <td>04</td>\n",
       "      <td>37.95</td>\n",
       "      <td>Menor</td>\n",
       "    </tr>\n",
       "    <tr>\n",
       "      <th>4</th>\n",
       "      <td>05</td>\n",
       "      <td>125.90</td>\n",
       "      <td>Mayor</td>\n",
       "    </tr>\n",
       "    <tr>\n",
       "      <th>5</th>\n",
       "      <td>06</td>\n",
       "      <td>150.00</td>\n",
       "      <td>Mayor</td>\n",
       "    </tr>\n",
       "    <tr>\n",
       "      <th>6</th>\n",
       "      <td>07</td>\n",
       "      <td>22.99</td>\n",
       "      <td>Menor</td>\n",
       "    </tr>\n",
       "    <tr>\n",
       "      <th>7</th>\n",
       "      <td>08</td>\n",
       "      <td>24.00</td>\n",
       "      <td>Menor</td>\n",
       "    </tr>\n",
       "  </tbody>\n",
       "</table>\n",
       "</div>"
      ],
      "text/plain": [
       "  TALON  PRECIO Clasificacion\n",
       "0    01   15.00         Menor\n",
       "1    02   18.00         Menor\n",
       "2    03   14.00         Menor\n",
       "3    04   37.95         Menor\n",
       "4    05  125.90         Mayor\n",
       "5    06  150.00         Mayor\n",
       "6    07   22.99         Menor\n",
       "7    08   24.00         Menor"
      ]
     },
     "execution_count": 5,
     "metadata": {},
     "output_type": "execute_result"
    }
   ],
   "source": [
    "sql_query(\"\"\"SELECT talon, precio, \n",
    "        CASE WHEN precio > (SELECT AVG(precio) FROM venta) THEN 'Mayor' ELSE 'Menor' END AS Clasificacion\n",
    "        FROM venta\n",
    "          ;\"\"\")"
   ]
  },
  {
   "cell_type": "markdown",
   "metadata": {},
   "source": [
    "# 7. Genere una consulta que para cada campaña de tipo “venta” obtenga el talón medio, precio medio, nº de referencias compradas y nº de talones con venta superior al talón medio."
   ]
  },
  {
   "cell_type": "code",
   "execution_count": null,
   "metadata": {},
   "outputs": [],
   "source": []
  },
  {
   "cell_type": "markdown",
   "metadata": {},
   "source": [
    "## 8. Genere una o varias consultas que devulevan las combinaciones de familias y campañas cuya venta haya sido superior a 100€."
   ]
  },
  {
   "cell_type": "code",
   "execution_count": 6,
   "metadata": {},
   "outputs": [
    {
     "data": {
      "text/html": [
       "<div>\n",
       "<style scoped>\n",
       "    .dataframe tbody tr th:only-of-type {\n",
       "        vertical-align: middle;\n",
       "    }\n",
       "\n",
       "    .dataframe tbody tr th {\n",
       "        vertical-align: top;\n",
       "    }\n",
       "\n",
       "    .dataframe thead th {\n",
       "        text-align: right;\n",
       "    }\n",
       "</style>\n",
       "<table border=\"1\" class=\"dataframe\">\n",
       "  <thead>\n",
       "    <tr style=\"text-align: right;\">\n",
       "      <th></th>\n",
       "      <th>COD_FAMILIA</th>\n",
       "      <th>ID_CAMPANIA</th>\n",
       "      <th>total</th>\n",
       "    </tr>\n",
       "  </thead>\n",
       "  <tbody>\n",
       "    <tr>\n",
       "      <th>0</th>\n",
       "      <td>2F1</td>\n",
       "      <td>CA2</td>\n",
       "      <td>313.85</td>\n",
       "    </tr>\n",
       "  </tbody>\n",
       "</table>\n",
       "</div>"
      ],
      "text/plain": [
       "  COD_FAMILIA ID_CAMPANIA   total\n",
       "0         2F1         CA2  313.85"
      ]
     },
     "execution_count": 6,
     "metadata": {},
     "output_type": "execute_result"
    }
   ],
   "source": [
    "sql_query(\"\"\"SELECT f.cod_familia, dc.id_campania,SUM(v.precio) as total\n",
    "            FROM familia f\n",
    "            LEFT JOIN depto_campania dc\n",
    "            ON f.id_dpto=dc.id_dpto\n",
    "            LEFT JOIN CAMPANIA c\n",
    "            ON dc.id_campania=c.id_campania\n",
    "            LEFT JOIN articulo a\n",
    "            ON dc.id_dpto=a.id_dpto\n",
    "            LEFT JOIN venta v\n",
    "            ON a.referencia=v.referencia\n",
    "            GROUP BY f.cod_familia, dc.id_campania\n",
    "            HAVING SUM(v.precio>100)\n",
    "          ;\"\"\")"
   ]
  },
  {
   "cell_type": "markdown",
   "metadata": {},
   "source": [
    "## 9. Genere una o varias consultas que permitan catalogar los artículos vendidos y que no son de la Campaña CA1, según si se tratan de artículos de Ropa o Accesorios. En base a los departamentos y familias. NOTA: Se valorará la elaboración de la consulta y no la veracidad del propio catálogo)"
   ]
  },
  {
   "cell_type": "code",
   "execution_count": null,
   "metadata": {},
   "outputs": [],
   "source": []
  },
  {
   "cell_type": "markdown",
   "metadata": {},
   "source": [
    "## 10. Genere una o varias consultas que devuelvan la variación del total de venta entre años. Tomando como variación la siguiente fórmula $$\\dfrac{Year_{n} – Year_{n-1}}{Year_{n-1}}$$ (Se valorará el control de valores 0 en la división o de indeterminaciones)"
   ]
  },
  {
   "attachments": {},
   "cell_type": "markdown",
   "metadata": {},
   "source": [
    "![tablas5](../../../img/Tablas-5.png)"
   ]
  },
  {
   "cell_type": "code",
   "execution_count": 57,
   "metadata": {},
   "outputs": [
    {
     "data": {
      "text/html": [
       "<div>\n",
       "<style scoped>\n",
       "    .dataframe tbody tr th:only-of-type {\n",
       "        vertical-align: middle;\n",
       "    }\n",
       "\n",
       "    .dataframe tbody tr th {\n",
       "        vertical-align: top;\n",
       "    }\n",
       "\n",
       "    .dataframe thead th {\n",
       "        text-align: right;\n",
       "    }\n",
       "</style>\n",
       "<table border=\"1\" class=\"dataframe\">\n",
       "  <thead>\n",
       "    <tr style=\"text-align: right;\">\n",
       "      <th></th>\n",
       "      <th>anio_1</th>\n",
       "      <th>anio_2</th>\n",
       "      <th>variacion</th>\n",
       "    </tr>\n",
       "  </thead>\n",
       "  <tbody>\n",
       "    <tr>\n",
       "      <th>0</th>\n",
       "      <td>2013</td>\n",
       "      <td>None</td>\n",
       "      <td>NaN</td>\n",
       "    </tr>\n",
       "    <tr>\n",
       "      <th>1</th>\n",
       "      <td>2012</td>\n",
       "      <td>2013</td>\n",
       "      <td>-0.575758</td>\n",
       "    </tr>\n",
       "    <tr>\n",
       "      <th>2</th>\n",
       "      <td>2011</td>\n",
       "      <td>2012</td>\n",
       "      <td>-0.832479</td>\n",
       "    </tr>\n",
       "    <tr>\n",
       "      <th>3</th>\n",
       "      <td>2010</td>\n",
       "      <td>2011</td>\n",
       "      <td>0.202258</td>\n",
       "    </tr>\n",
       "  </tbody>\n",
       "</table>\n",
       "</div>"
      ],
      "text/plain": [
       "  anio_1 anio_2  variacion\n",
       "0   2013   None        NaN\n",
       "1   2012   2013  -0.575758\n",
       "2   2011   2012  -0.832479\n",
       "3   2010   2011   0.202258"
      ]
     },
     "execution_count": 57,
     "metadata": {},
     "output_type": "execute_result"
    }
   ],
   "source": [
    "sql_query(\"\"\"SELECT anio AS anio_1, \n",
    "       LAG(anio) OVER (ORDER BY anio DESC) AS anio_2, \n",
    "       (LAG(total_anio) OVER (ORDER BY anio DESC) - total_anio) /total_anio  AS variacion\n",
    "       \n",
    "FROM (SELECT SUBSTR(fecha_venta, -4) AS anio, SUM(precio) as total_anio\n",
    "FROM venta\n",
    "GROUP BY anio\n",
    "ORDER BY anio DESC)\n",
    "ORDER BY anio DESC;\"\"\")"
   ]
  }
 ],
 "metadata": {
  "interpreter": {
   "hash": "bbecac44435c2c981f643c81cfe05fa1d6ef605eda7f5952ee2b272fedf4993e"
  },
  "kernelspec": {
   "display_name": "Python 3.7.4 64-bit",
   "language": "python",
   "name": "python3"
  },
  "language_info": {
   "codemirror_mode": {
    "name": "ipython",
    "version": 3
   },
   "file_extension": ".py",
   "mimetype": "text/x-python",
   "name": "python",
   "nbconvert_exporter": "python",
   "pygments_lexer": "ipython3",
   "version": "3.7.4"
  },
  "orig_nbformat": 4
 },
 "nbformat": 4,
 "nbformat_minor": 2
}
