{
 "cells": [
  {
   "cell_type": "markdown",
   "metadata": {},
   "source": [
    "# Ejercicios Web Scrapping"
   ]
  },
  {
   "cell_type": "code",
   "execution_count": 2,
   "metadata": {},
   "outputs": [],
   "source": [
    "import requests\n",
    "from bs4 import BeautifulSoup\n",
    "import re"
   ]
  },
  {
   "cell_type": "markdown",
   "metadata": {},
   "source": [
    "## Ejercicio 1: Usa python para crear una variable con el html de https://www.python.org/ y parsealo con BeautifulSoup."
   ]
  },
  {
   "cell_type": "code",
   "execution_count": 3,
   "metadata": {},
   "outputs": [],
   "source": [
    "import requests\n",
    "from bs4 import BeautifulSoup\n",
    "\n",
    "# Descargar el HTML de la página web\n",
    "url = 'https://www.python.org/'\n",
    "response = requests.get(url)\n",
    "html = response.content\n",
    "\n",
    "\n",
    "# Parsear el HTML con BeautifulSoup\n",
    "contenido = BeautifulSoup(html, 'lxml')\n"
   ]
  },
  {
   "cell_type": "markdown",
   "metadata": {},
   "source": [
    "## Ejercicio 2: Encuentra todas las etiquetas de enlace y enumera las diez primeras de la página web python.org"
   ]
  },
  {
   "cell_type": "code",
   "execution_count": 4,
   "metadata": {},
   "outputs": [],
   "source": [
    "etiquetas=contenido.find_all(\"div\")"
   ]
  },
  {
   "cell_type": "markdown",
   "metadata": {},
   "source": [
    "## Ejercicio 3: Lista todas las etiquetas h1, h2, h3"
   ]
  },
  {
   "cell_type": "code",
   "execution_count": 5,
   "metadata": {},
   "outputs": [
    {
     "data": {
      "text/plain": [
       "[<h1 class=\"site-headline\">\n",
       " <a href=\"/\"><img alt=\"python™\" class=\"python-logo\" src=\"/static/img/python-logo.png\"/></a>\n",
       " </h1>,\n",
       " <h1>Functions Defined</h1>,\n",
       " <h1>Compound Data Types</h1>,\n",
       " <h1>Intuitive Interpretation</h1>,\n",
       " <h1>All the Flow You’d Expect</h1>,\n",
       " <h1>Quick &amp; Easy to Learn</h1>,\n",
       " <h2 class=\"widget-title\"><span aria-hidden=\"true\" class=\"icon-get-started\"></span>Get Started</h2>,\n",
       " <h2 class=\"widget-title\"><span aria-hidden=\"true\" class=\"icon-download\"></span>Download</h2>,\n",
       " <h2 class=\"widget-title\"><span aria-hidden=\"true\" class=\"icon-documentation\"></span>Docs</h2>,\n",
       " <h2 class=\"widget-title\"><span aria-hidden=\"true\" class=\"icon-jobs\"></span>Jobs</h2>,\n",
       " <h2 class=\"widget-title\"><span aria-hidden=\"true\" class=\"icon-news\"></span>Latest News</h2>,\n",
       " <h2 class=\"widget-title\"><span aria-hidden=\"true\" class=\"icon-calendar\"></span>Upcoming Events</h2>,\n",
       " <h2 class=\"widget-title\"><span aria-hidden=\"true\" class=\"icon-success-stories\"></span>Success Stories</h2>,\n",
       " <h2 class=\"widget-title\"><span aria-hidden=\"true\" class=\"icon-python\"></span>Use Python for…</h2>,\n",
       " <h2 class=\"widget-title\">\n",
       " <span class=\"prompt\">&gt;&gt;&gt;</span> <a href=\"/dev/peps/\">Python Enhancement Proposals<span class=\"say-no-more\"> (PEPs)</span></a>: The future of Python<span class=\"say-no-more\"> is discussed here.</span>\n",
       " <a aria-hidden=\"true\" class=\"rss-link\" href=\"/dev/peps/peps.rss\"><span class=\"icon-feed\"></span> RSS</a>\n",
       " </h2>,\n",
       " <h2 class=\"widget-title\">\n",
       " <span class=\"prompt\">&gt;&gt;&gt;</span> <a href=\"/psf/\">Python Software Foundation</a>\n",
       " </h2>]"
      ]
     },
     "execution_count": 5,
     "metadata": {},
     "output_type": "execute_result"
    }
   ],
   "source": [
    "contenido.find_all([\"h1\",\"h2\",\"h3\"])"
   ]
  },
  {
   "cell_type": "markdown",
   "metadata": {},
   "source": [
    "## Ejercicio 4: Quédate con los hiperref que contengan la palabra python. Pista: Usa la librería regex."
   ]
  },
  {
   "cell_type": "code",
   "execution_count": 12,
   "metadata": {},
   "outputs": [
    {
     "name": "stdout",
     "output_type": "stream",
     "text": [
      "['https://www.python', 'https://www.python', 'https://www.python', 'https://www.python', 'https://www.python', 'https://www.python', 'https://www.python', 'https://www.python', 'https://docs.python', 'https://www.facebook.com/python', 'https://docs.python', 'https://wiki.python', 'https://devguide.python', 'https://docs.python', 'https://wiki.python', 'https://wiki.python', 'https://wiki.python', 'https://docs.python', 'https://blog.python', 'https://mailchi.mp/python', 'https://pyfound.blogspot.com/2023/03/protecting-python', 'https://python', 'https://pyfound.blogspot.com/2023/02/python', 'https://wiki.gnome.org/Projects/PyGObject\">PyGObject</a>, <a class=\"tag\" href=\"http://www.riverbankcomputing.co.uk/software/pyqt/intro\">PyQt</a>, <a class=\"tag\" href=\"https://wiki.qt.io/PySide\">PySide</a>, <a class=\"tag\" href=\"https://kivy.org/\">Kivy</a>, <a class=\"tag\" href=\"http://www.wxpython', 'https://docs.python', 'https://wiki.python', 'https://devguide.python', 'https://docs.python', 'https://wiki.python', 'https://wiki.python', 'https://wiki.python', 'https://devguide.python', 'https://bugs.python', 'https://mail.python', 'https://github.com/python', 'https://status.python']\n"
     ]
    }
   ],
   "source": [
    "# Buscar todos los enlaces que contengan la palabra \"python\"\n",
    "links_python = re.findall('https://.*?python.*?', response.text)\n",
    "\n",
    "print(links_python)"
   ]
  }
 ],
 "metadata": {
  "interpreter": {
   "hash": "bbecac44435c2c981f643c81cfe05fa1d6ef605eda7f5952ee2b272fedf4993e"
  },
  "kernelspec": {
   "display_name": "Python 3.7.4 64-bit",
   "language": "python",
   "name": "python3"
  },
  "language_info": {
   "codemirror_mode": {
    "name": "ipython",
    "version": 3
   },
   "file_extension": ".py",
   "mimetype": "text/x-python",
   "name": "python",
   "nbconvert_exporter": "python",
   "pygments_lexer": "ipython3",
   "version": "3.7.4"
  },
  "orig_nbformat": 4
 },
 "nbformat": 4,
 "nbformat_minor": 2
}
