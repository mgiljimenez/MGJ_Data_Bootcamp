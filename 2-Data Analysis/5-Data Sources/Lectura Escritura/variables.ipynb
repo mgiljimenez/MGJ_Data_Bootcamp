{
 "cells": [
  {
   "cell_type": "code",
   "execution_count": null,
   "metadata": {},
   "outputs": [],
   "source": [
    "TAM_TABLERO = 10 # Tamaño del tablero\n",
    "TAM_BARCOS=[1,1,1,1,2,2,2,3,3,4]  #se define como una lista de los tamaños/ el número de barcos es el len(TAM_BARCOS)\n",
    "barco_icon = {1: \"🚣\", 2: \"🚢\", 3: \"🛳️\", 4: \"🚤\"}\n",
    "agua_icon= \"🌊\"\n",
    "shoot_icon=\"💥\"\n",
    "instrucciones=\"Aquí tienen que ir las instrucciones en battleship_variables.py\""
   ]
  }
 ],
 "metadata": {
  "language_info": {
   "name": "python"
  },
  "orig_nbformat": 4
 },
 "nbformat": 4,
 "nbformat_minor": 2
}
