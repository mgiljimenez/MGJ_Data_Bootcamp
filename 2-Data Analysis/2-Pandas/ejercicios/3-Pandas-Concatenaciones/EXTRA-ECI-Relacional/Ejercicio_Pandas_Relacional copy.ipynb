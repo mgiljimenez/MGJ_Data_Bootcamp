{
 "cells": [
  {
   "cell_type": "markdown",
   "metadata": {},
   "source": [
    "# Ejercicio de repaso: BBDD Relacionales"
   ]
  },
  {
   "cell_type": "markdown",
   "metadata": {},
   "source": [
    "Ejercicio sacado directamente de una entrevista de trabajo para una conocida compañía de retail."
   ]
  },
  {
   "attachments": {},
   "cell_type": "markdown",
   "metadata": {},
   "source": [
    "![tablas1](../../../img/Tablas-1.png)\n",
    "![tablas3](../../../img/Tablas-3.png)"
   ]
  },
  {
   "cell_type": "code",
   "execution_count": 1,
   "metadata": {},
   "outputs": [],
   "source": [
    "import numpy as np\n",
    "import pandas as pd\n",
    "import sqlite3\n",
    "# Conectamos con la base de datos chinook.db\n",
    "connection = sqlite3.connect(\"ECI.db\")\n",
    "# Obtenemos un cursor que utilizaremos para hacer las queries\n",
    "crsr = connection.cursor()\n",
    "\n",
    "# Con esta función leemos los datos y lo pasamos a un DataFrame de Pandas\n",
    "def sql_query(query):\n",
    "\n",
    "    # Ejecuta la query\n",
    "    crsr.execute(query)\n",
    "\n",
    "    # Almacena los datos de la query \n",
    "    ans = crsr.fetchall()\n",
    "\n",
    "    # Obtenemos los nombres de las columnas de la tabla\n",
    "    names = [description[0] for description in crsr.description]\n",
    "\n",
    "    return pd.DataFrame(ans,columns=names)\n",
    "\n"
   ]
  },
  {
   "cell_type": "markdown",
   "metadata": {},
   "source": [
    "## 1. Crea un DataFrame por cada tabla"
   ]
  },
  {
   "cell_type": "code",
   "execution_count": 2,
   "metadata": {},
   "outputs": [],
   "source": [
    "dict_DEPTO_CAMPANIA = {'ID_DPTO':['1','1','2', '3', '3', '3', '4', '4', '4', '4'],\n",
    "                'ID_CAMPANIA':['CA1', 'CA4', 'CA2', 'CA2', 'CA5', 'CA6', 'CA1', 'CA2', 'CA3', 'CA6']}\n",
    "DEPTO_CAMPANIA = pd.DataFrame(dict_DEPTO_CAMPANIA)\n",
    "\n",
    "DATA_DEPARTAMENTOS = {\n",
    "        'ID_DPTO': ['1', '2', '3', '4'],\n",
    "        'DESC_DPTO': ['JOYERIA', 'BOLSOS', 'ZAPATERIA', 'BAÑO CAB.']}\n",
    "DEPARTAMENTO = pd.DataFrame(DATA_DEPARTAMENTOS)\n",
    "\n",
    "familia = [['1', '1', '2', '3', '3', '4'], \n",
    "           ['1F1', '1F2', '2F1', '3F1', '3F2', '4F1'], \n",
    "           ['PULSERAS', 'ANILLOS', 'BOLSOS DE MANO', 'NAUTICO', 'SANDALIAS', 'BERMUDAS']]\n",
    "\n",
    "columnas = ['ID_DPTO', 'COD_FAMILIA', 'DESC_FAMILIA']\n",
    "FAMILIA = pd.DataFrame(dict(zip(columnas, familia)))\n",
    "\n",
    "dic_campanias =  { \"ID_CAMPANIA\" : [\"CA1\", \"CA2\", \"CA3\", \"CA4\", \"CA5\", \"CA6\"], \"TIPO\": [\"VENTA\", \"VENTA\", \"POSVENTA\", \"VENTA\", \"POSVENTA\", \"POSVENTA\"], \"FECHA_CAMP\" : [\"05/02/2012\", \"04/02/2012\", \"02/10/2009\", \"06/05/2010\", \"30/11/2010\", \"07/02/2015\"] }\n",
    "CAMPANIA = pd.DataFrame(dic_campanias)\n",
    "\n",
    "Referencias = pd.Series(['A','B','C','D','E','F','G','H'])\n",
    "ID_DPTO = pd.Series(['1','2','2','2','2','3','3','4'])\n",
    "COD_FAMILIA =pd.Series(['1F1','2F1','2F1','2F1','2F1','3F1','3F2','4F1'])\n",
    "FECHA_ALTA = pd.Series(['21/02/2010','07/02/2014','15/05/2014','01/10/2005','31/10/2010','20/04/2001','14/02/2015','25/03/2009'])\n",
    "ARTICULO = pd.DataFrame({'REFERENCIA': Referencias,'ID_DPTO': ID_DPTO,'COD_FAMILIA':COD_FAMILIA,'FECHA_ALTA':FECHA_ALTA})\n",
    "\n",
    "talon = ['01', '02', '03', '04', '05', '06', '07', '08']\n",
    "referencia = ['A', 'A', 'A', 'D', 'E', 'E', 'H', 'H']\n",
    "precio = [15, 18, 14, 37.95, 125.90, 150, 22.99, 24]\n",
    "fecha_venta = ['11/02/2012', '15/02/2012', '02/10/2013', '06/08/2010', '30/11/2010', '05/02/2011', '11/04/2011', '08/08/2011']\n",
    "VENTA = pd.DataFrame({'TALON':talon,\n",
    "                    'REFERENCIA':referencia,\n",
    "                    'PRECIO':precio,\n",
    "                    'FECHA_VENTA':fecha_venta})"
   ]
  },
  {
   "cell_type": "code",
   "execution_count": 3,
   "metadata": {},
   "outputs": [],
   "source": [
    "DEPTO_CAMPANIA.to_sql('DEPTO_CAMPANIA', connection, if_exists='replace', index=False)\n",
    "DEPARTAMENTO.to_sql('DEPARTAMENTO', connection, if_exists='replace', index=False)\n",
    "FAMILIA.to_sql('FAMILIA', connection, if_exists='replace', index=False)\n",
    "CAMPANIA.to_sql('CAMPANIA', connection, if_exists='replace', index=False)\n",
    "ARTICULO.to_sql('ARTICULO', connection, if_exists='replace', index=False)\n",
    "VENTA.to_sql('VENTA', connection, if_exists='replace', index=False)\n",
    "connection.commit()"
   ]
  },
  {
   "cell_type": "code",
   "execution_count": 6,
   "metadata": {},
   "outputs": [
    {
     "data": {
      "text/html": [
       "<div>\n",
       "<style scoped>\n",
       "    .dataframe tbody tr th:only-of-type {\n",
       "        vertical-align: middle;\n",
       "    }\n",
       "\n",
       "    .dataframe tbody tr th {\n",
       "        vertical-align: top;\n",
       "    }\n",
       "\n",
       "    .dataframe thead th {\n",
       "        text-align: right;\n",
       "    }\n",
       "</style>\n",
       "<table border=\"1\" class=\"dataframe\">\n",
       "  <thead>\n",
       "    <tr style=\"text-align: right;\">\n",
       "      <th></th>\n",
       "      <th>ID_DPTO</th>\n",
       "      <th>COD_FAMILIA</th>\n",
       "      <th>DESC_FAMILIA</th>\n",
       "    </tr>\n",
       "  </thead>\n",
       "  <tbody>\n",
       "    <tr>\n",
       "      <th>0</th>\n",
       "      <td>1</td>\n",
       "      <td>1F1</td>\n",
       "      <td>PULSERAS</td>\n",
       "    </tr>\n",
       "    <tr>\n",
       "      <th>1</th>\n",
       "      <td>1</td>\n",
       "      <td>1F2</td>\n",
       "      <td>ANILLOS</td>\n",
       "    </tr>\n",
       "    <tr>\n",
       "      <th>2</th>\n",
       "      <td>2</td>\n",
       "      <td>2F1</td>\n",
       "      <td>BOLSOS DE MANO</td>\n",
       "    </tr>\n",
       "    <tr>\n",
       "      <th>3</th>\n",
       "      <td>3</td>\n",
       "      <td>3F1</td>\n",
       "      <td>NAUTICO</td>\n",
       "    </tr>\n",
       "    <tr>\n",
       "      <th>4</th>\n",
       "      <td>3</td>\n",
       "      <td>3F2</td>\n",
       "      <td>SANDALIAS</td>\n",
       "    </tr>\n",
       "    <tr>\n",
       "      <th>5</th>\n",
       "      <td>4</td>\n",
       "      <td>4F1</td>\n",
       "      <td>BERMUDAS</td>\n",
       "    </tr>\n",
       "  </tbody>\n",
       "</table>\n",
       "</div>"
      ],
      "text/plain": [
       "  ID_DPTO COD_FAMILIA    DESC_FAMILIA\n",
       "0       1         1F1        PULSERAS\n",
       "1       1         1F2         ANILLOS\n",
       "2       2         2F1  BOLSOS DE MANO\n",
       "3       3         3F1         NAUTICO\n",
       "4       3         3F2       SANDALIAS\n",
       "5       4         4F1        BERMUDAS"
      ]
     },
     "execution_count": 6,
     "metadata": {},
     "output_type": "execute_result"
    }
   ],
   "source": [
    "#Hacemos una query\n",
    "sql_query(\"SELECT * FROM FAMILIA;\")"
   ]
  },
  {
   "attachments": {},
   "cell_type": "markdown",
   "metadata": {},
   "source": [
    "# HASTA AQUÍ"
   ]
  },
  {
   "cell_type": "code",
   "execution_count": null,
   "metadata": {},
   "outputs": [],
   "source": []
  },
  {
   "cell_type": "code",
   "execution_count": null,
   "metadata": {},
   "outputs": [],
   "source": []
  },
  {
   "cell_type": "markdown",
   "metadata": {},
   "source": [
    "## 2. Genera una consulta que obtenga la lista ordenada de todas las referencias sin venta"
   ]
  },
  {
   "cell_type": "code",
   "execution_count": 4,
   "metadata": {},
   "outputs": [
    {
     "data": {
      "text/html": [
       "<div>\n",
       "<style scoped>\n",
       "    .dataframe tbody tr th:only-of-type {\n",
       "        vertical-align: middle;\n",
       "    }\n",
       "\n",
       "    .dataframe tbody tr th {\n",
       "        vertical-align: top;\n",
       "    }\n",
       "\n",
       "    .dataframe thead th {\n",
       "        text-align: right;\n",
       "    }\n",
       "</style>\n",
       "<table border=\"1\" class=\"dataframe\">\n",
       "  <thead>\n",
       "    <tr style=\"text-align: right;\">\n",
       "      <th></th>\n",
       "      <th>REFERENCIA</th>\n",
       "      <th>ID_DPTO</th>\n",
       "      <th>COD_FAMILIA</th>\n",
       "    </tr>\n",
       "  </thead>\n",
       "  <tbody>\n",
       "    <tr>\n",
       "      <th>3</th>\n",
       "      <td>B</td>\n",
       "      <td>2</td>\n",
       "      <td>2F1</td>\n",
       "    </tr>\n",
       "    <tr>\n",
       "      <th>4</th>\n",
       "      <td>C</td>\n",
       "      <td>2</td>\n",
       "      <td>2F1</td>\n",
       "    </tr>\n",
       "    <tr>\n",
       "      <th>8</th>\n",
       "      <td>F</td>\n",
       "      <td>3</td>\n",
       "      <td>3F1</td>\n",
       "    </tr>\n",
       "    <tr>\n",
       "      <th>9</th>\n",
       "      <td>G</td>\n",
       "      <td>3</td>\n",
       "      <td>3F2</td>\n",
       "    </tr>\n",
       "  </tbody>\n",
       "</table>\n",
       "</div>"
      ],
      "text/plain": [
       "  REFERENCIA ID_DPTO COD_FAMILIA\n",
       "3          B       2         2F1\n",
       "4          C       2         2F1\n",
       "8          F       3         3F1\n",
       "9          G       3         3F2"
      ]
     },
     "execution_count": 4,
     "metadata": {},
     "output_type": "execute_result"
    }
   ],
   "source": [
    "ventas_totales=pd.merge(ARTICULO, VENTA, how=\"outer\")\n",
    "referencias_sin_venta=ventas_totales[ventas_totales[\"FECHA_VENTA\"].isnull()]\n",
    "referencias_ordenadas=referencias_sin_venta.sort_values(\"REFERENCIA\", ascending=True).iloc[:,0:3]\n",
    "\n",
    "referencias_ordenadas"
   ]
  },
  {
   "cell_type": "markdown",
   "metadata": {},
   "source": [
    "## 3. Genera una consulta que obtenga las ventas comprendidas entre 2010 y 2011 (ambos incluidos), que estén asociados a una campaña de tipo VENTA y que sean del departamento de JOYERÍA."
   ]
  },
  {
   "cell_type": "code",
   "execution_count": 316,
   "metadata": {},
   "outputs": [
    {
     "data": {
      "text/html": [
       "<div>\n",
       "<style scoped>\n",
       "    .dataframe tbody tr th:only-of-type {\n",
       "        vertical-align: middle;\n",
       "    }\n",
       "\n",
       "    .dataframe tbody tr th {\n",
       "        vertical-align: top;\n",
       "    }\n",
       "\n",
       "    .dataframe thead th {\n",
       "        text-align: right;\n",
       "    }\n",
       "</style>\n",
       "<table border=\"1\" class=\"dataframe\">\n",
       "  <thead>\n",
       "    <tr style=\"text-align: right;\">\n",
       "      <th></th>\n",
       "      <th>TALON</th>\n",
       "      <th>REFERENCIA</th>\n",
       "      <th>PRECIO</th>\n",
       "      <th>FECHA_VENTA</th>\n",
       "      <th>ID_DPTO</th>\n",
       "      <th>COD_FAMILIA</th>\n",
       "      <th>FECHA_ALTA</th>\n",
       "      <th>ID_CAMPANIA</th>\n",
       "      <th>TIPO</th>\n",
       "      <th>FECHA_CAMP</th>\n",
       "      <th>DESC_DPTO</th>\n",
       "    </tr>\n",
       "  </thead>\n",
       "  <tbody>\n",
       "  </tbody>\n",
       "</table>\n",
       "</div>"
      ],
      "text/plain": [
       "Empty DataFrame\n",
       "Columns: [TALON, REFERENCIA, PRECIO, FECHA_VENTA, ID_DPTO, COD_FAMILIA, FECHA_ALTA, ID_CAMPANIA, TIPO, FECHA_CAMP, DESC_DPTO]\n",
       "Index: []"
      ]
     },
     "execution_count": 316,
     "metadata": {},
     "output_type": "execute_result"
    }
   ],
   "source": [
    "campanias_venta=pd.merge(CAMPANIA,DEPTO_CAMPANIA)\n",
    "campanias_venta=campanias_venta[campanias_venta[\"TIPO\"]==\"VENTA\"]\n",
    "departamento_joyeria=pd.merge(campanias_venta,DEPARTAMENTO)\n",
    "departamento_joyeria=departamento_joyeria[departamento_joyeria[\"DESC_DPTO\"]==\"JOYERIA\"]\n",
    "ventas_2010_2011=VENTA[VENTA[\"FECHA_VENTA\"].str.contains(\"2010|2011\")]\n",
    "aritucos_2010_2011=pd.merge(ventas_2010_2011,ARTICULO, how=\"left\")\n",
    "pd.merge(aritucos_2010_2011,departamento_joyeria)"
   ]
  },
  {
   "cell_type": "markdown",
   "metadata": {},
   "source": [
    "## 4. Genere una consulta que cree un campo “co_ranking” que clasifique en orden ascendente las campañas según el total de venta, siendo 1 la campaña que más ha vendido y N la que menos. (N = Total de campañas)"
   ]
  },
  {
   "cell_type": "code",
   "execution_count": 5,
   "metadata": {},
   "outputs": [
    {
     "data": {
      "text/html": [
       "<div>\n",
       "<style scoped>\n",
       "    .dataframe tbody tr th:only-of-type {\n",
       "        vertical-align: middle;\n",
       "    }\n",
       "\n",
       "    .dataframe tbody tr th {\n",
       "        vertical-align: top;\n",
       "    }\n",
       "\n",
       "    .dataframe thead th {\n",
       "        text-align: right;\n",
       "    }\n",
       "</style>\n",
       "<table border=\"1\" class=\"dataframe\">\n",
       "  <thead>\n",
       "    <tr style=\"text-align: right;\">\n",
       "      <th></th>\n",
       "      <th>PRECIO</th>\n",
       "      <th>Co-Ranking</th>\n",
       "    </tr>\n",
       "    <tr>\n",
       "      <th>ID_CAMPANIA</th>\n",
       "      <th></th>\n",
       "      <th></th>\n",
       "    </tr>\n",
       "  </thead>\n",
       "  <tbody>\n",
       "    <tr>\n",
       "      <th>CA1</th>\n",
       "      <td>93.99</td>\n",
       "      <td>1</td>\n",
       "    </tr>\n",
       "    <tr>\n",
       "      <th>CA2</th>\n",
       "      <td>360.84</td>\n",
       "      <td>2</td>\n",
       "    </tr>\n",
       "    <tr>\n",
       "      <th>CA3</th>\n",
       "      <td>46.99</td>\n",
       "      <td>3</td>\n",
       "    </tr>\n",
       "    <tr>\n",
       "      <th>CA4</th>\n",
       "      <td>47.00</td>\n",
       "      <td>4</td>\n",
       "    </tr>\n",
       "    <tr>\n",
       "      <th>CA6</th>\n",
       "      <td>46.99</td>\n",
       "      <td>5</td>\n",
       "    </tr>\n",
       "  </tbody>\n",
       "</table>\n",
       "</div>"
      ],
      "text/plain": [
       "             PRECIO  Co-Ranking\n",
       "ID_CAMPANIA                    \n",
       "CA1           93.99           1\n",
       "CA2          360.84           2\n",
       "CA3           46.99           3\n",
       "CA4           47.00           4\n",
       "CA6           46.99           5"
      ]
     },
     "execution_count": 5,
     "metadata": {},
     "output_type": "execute_result"
    }
   ],
   "source": [
    "campania_departamento=pd.merge(CAMPANIA,DEPTO_CAMPANIA)[[\"ID_CAMPANIA\",\"ID_DPTO\"]]\n",
    "campania_referencia=pd.merge(campania_departamento,ARTICULO)[[\"ID_CAMPANIA\",\"REFERENCIA\"]]\n",
    "campania_precio=pd.merge(campania_referencia,VENTA)[[\"ID_CAMPANIA\",\"REFERENCIA\",\"PRECIO\"]]\n",
    "campania_total=campania_precio.groupby(\"ID_CAMPANIA\").sum()\n",
    "campania_total.sort_values(\"PRECIO\",ascending=False)\n",
    "campania_total[\"Co-Ranking\"]=list(range(1,len(campania_total)+1))\n",
    "\n",
    "campania_total"
   ]
  },
  {
   "cell_type": "markdown",
   "metadata": {},
   "source": [
    "## 5. Clasifique todas las ventas en Mayor, Igual o Menor precio respecto a la media de los precios de todas las ventas realizadas."
   ]
  },
  {
   "attachments": {},
   "cell_type": "markdown",
   "metadata": {},
   "source": [
    "**Resultado**:\n",
    "\n",
    "\n",
    "![tablares](../../../img/Tablas-4.png)"
   ]
  },
  {
   "cell_type": "code",
   "execution_count": 318,
   "metadata": {},
   "outputs": [
    {
     "data": {
      "text/html": [
       "<div>\n",
       "<style scoped>\n",
       "    .dataframe tbody tr th:only-of-type {\n",
       "        vertical-align: middle;\n",
       "    }\n",
       "\n",
       "    .dataframe tbody tr th {\n",
       "        vertical-align: top;\n",
       "    }\n",
       "\n",
       "    .dataframe thead th {\n",
       "        text-align: right;\n",
       "    }\n",
       "</style>\n",
       "<table border=\"1\" class=\"dataframe\">\n",
       "  <thead>\n",
       "    <tr style=\"text-align: right;\">\n",
       "      <th></th>\n",
       "      <th>TALON</th>\n",
       "      <th>PRECIO</th>\n",
       "      <th>CLASIFICACION</th>\n",
       "    </tr>\n",
       "  </thead>\n",
       "  <tbody>\n",
       "    <tr>\n",
       "      <th>0</th>\n",
       "      <td>01</td>\n",
       "      <td>15.00</td>\n",
       "      <td>MENOR</td>\n",
       "    </tr>\n",
       "    <tr>\n",
       "      <th>1</th>\n",
       "      <td>02</td>\n",
       "      <td>18.00</td>\n",
       "      <td>MENOR</td>\n",
       "    </tr>\n",
       "    <tr>\n",
       "      <th>2</th>\n",
       "      <td>03</td>\n",
       "      <td>14.00</td>\n",
       "      <td>MENOR</td>\n",
       "    </tr>\n",
       "    <tr>\n",
       "      <th>3</th>\n",
       "      <td>04</td>\n",
       "      <td>37.95</td>\n",
       "      <td>MENOR</td>\n",
       "    </tr>\n",
       "    <tr>\n",
       "      <th>4</th>\n",
       "      <td>05</td>\n",
       "      <td>125.90</td>\n",
       "      <td>MAYOR</td>\n",
       "    </tr>\n",
       "    <tr>\n",
       "      <th>5</th>\n",
       "      <td>06</td>\n",
       "      <td>150.00</td>\n",
       "      <td>MAYOR</td>\n",
       "    </tr>\n",
       "    <tr>\n",
       "      <th>6</th>\n",
       "      <td>07</td>\n",
       "      <td>22.99</td>\n",
       "      <td>MENOR</td>\n",
       "    </tr>\n",
       "    <tr>\n",
       "      <th>7</th>\n",
       "      <td>08</td>\n",
       "      <td>24.00</td>\n",
       "      <td>MENOR</td>\n",
       "    </tr>\n",
       "  </tbody>\n",
       "</table>\n",
       "</div>"
      ],
      "text/plain": [
       "  TALON  PRECIO CLASIFICACION\n",
       "0    01   15.00         MENOR\n",
       "1    02   18.00         MENOR\n",
       "2    03   14.00         MENOR\n",
       "3    04   37.95         MENOR\n",
       "4    05  125.90         MAYOR\n",
       "5    06  150.00         MAYOR\n",
       "6    07   22.99         MENOR\n",
       "7    08   24.00         MENOR"
      ]
     },
     "execution_count": 318,
     "metadata": {},
     "output_type": "execute_result"
    }
   ],
   "source": [
    "lista_ranking=[]\n",
    "for precio in VENTA[\"PRECIO\"]:\n",
    "    if precio > VENTA[\"PRECIO\"].mean():\n",
    "        lista_ranking.append(\"MAYOR\")\n",
    "    if precio == VENTA[\"PRECIO\"].mean():\n",
    "        lista_ranking.append(\"IGUAL\")\n",
    "    if precio < VENTA[\"PRECIO\"].mean():\n",
    "        lista_ranking.append(\"MENOR\")\n",
    "\n",
    "VENTA[\"CLASIFICACION\"]=lista_ranking\n",
    "VENTA.loc[:,[\"TALON\",\"PRECIO\",\"CLASIFICACION\"]]"
   ]
  },
  {
   "cell_type": "markdown",
   "metadata": {},
   "source": [
    "# 7. Genere una consulta que para cada campaña de tipo “venta” obtenga el talón medio, precio medio, nº de referencias compradas y nº de talones con venta superior al talón medio."
   ]
  },
  {
   "cell_type": "code",
   "execution_count": 379,
   "metadata": {},
   "outputs": [],
   "source": [
    "campania_venta=CAMPANIA[CAMPANIA[\"TIPO\"]==\"VENTA\"]\n",
    "campania_dpto=pd.merge(campania_venta,DEPTO_CAMPANIA)[[\"ID_CAMPANIA\",\"ID_DPTO\"]]\n",
    "campania_referencia=pd.merge(campania_dpto,ARTICULO)[[\"ID_CAMPANIA\",\"ID_DPTO\",\"REFERENCIA\"]]\n",
    "campania_precios=pd.merge(campania_referencia,VENTA)[[\"ID_CAMPANIA\",\"REFERENCIA\",\"TALON\",\"PRECIO\"]]\n",
    "\n",
    "precios=campania_precios.groupby(\"ID_CAMPANIA\").mean()\n",
    "n_referencia=campania_precios.groupby(\"ID_CAMPANIA\").count()[[\"REFERENCIA\"]]\n",
    "n_talones_mayor_media=campania_precios[campania_precios[\"PRECIO\"]>campania_precios[\"PRECIO\"].mean()].groupby(\"ID_CAMPANIA\").count()\n"
   ]
  },
  {
   "cell_type": "code",
   "execution_count": 393,
   "metadata": {},
   "outputs": [
    {
     "data": {
      "text/html": [
       "<div>\n",
       "<style scoped>\n",
       "    .dataframe tbody tr th:only-of-type {\n",
       "        vertical-align: middle;\n",
       "    }\n",
       "\n",
       "    .dataframe tbody tr th {\n",
       "        vertical-align: top;\n",
       "    }\n",
       "\n",
       "    .dataframe thead th {\n",
       "        text-align: right;\n",
       "    }\n",
       "</style>\n",
       "<table border=\"1\" class=\"dataframe\">\n",
       "  <thead>\n",
       "    <tr style=\"text-align: right;\">\n",
       "      <th></th>\n",
       "      <th>PRECIO_x</th>\n",
       "      <th>REFERENCIA_x</th>\n",
       "      <th>REFERENCIA_y</th>\n",
       "    </tr>\n",
       "    <tr>\n",
       "      <th>Hola</th>\n",
       "      <th></th>\n",
       "      <th></th>\n",
       "      <th></th>\n",
       "    </tr>\n",
       "  </thead>\n",
       "  <tbody>\n",
       "    <tr>\n",
       "      <th>CA1</th>\n",
       "      <td>18.798000</td>\n",
       "      <td>5</td>\n",
       "      <td>NaN</td>\n",
       "    </tr>\n",
       "    <tr>\n",
       "      <th>CA2</th>\n",
       "      <td>72.168000</td>\n",
       "      <td>5</td>\n",
       "      <td>2.0</td>\n",
       "    </tr>\n",
       "    <tr>\n",
       "      <th>CA4</th>\n",
       "      <td>15.666667</td>\n",
       "      <td>3</td>\n",
       "      <td>NaN</td>\n",
       "    </tr>\n",
       "  </tbody>\n",
       "</table>\n",
       "</div>"
      ],
      "text/plain": [
       "       PRECIO_x  REFERENCIA_x  REFERENCIA_y\n",
       "Hola                                       \n",
       "CA1   18.798000             5           NaN\n",
       "CA2   72.168000             5           2.0\n",
       "CA4   15.666667             3           NaN"
      ]
     },
     "execution_count": 393,
     "metadata": {},
     "output_type": "execute_result"
    }
   ],
   "source": [
    "pd_precios_refe=pd.merge(precios, n_referencia ,on=\"ID_CAMPANIA\")\n",
    "pd_final_precios=pd.merge(pd_precios_refe, n_talones_mayor_media, on=\"ID_CAMPANIA\", how=\"outer\").iloc[:,0:3]\n",
    "pd_final_precios.\n"
   ]
  },
  {
   "cell_type": "markdown",
   "metadata": {},
   "source": [
    "## 8. Genere una o varias consultas que devulevan las combinaciones de familias y campañas cuya venta haya sido superior a 100€."
   ]
  },
  {
   "cell_type": "code",
   "execution_count": 319,
   "metadata": {},
   "outputs": [],
   "source": [
    "#ARTICULOS\n",
    "articulo_familia=pd.merge(FAMILIA, ARTICULO)[[\"REFERENCIA\",\"COD_FAMILIA\",\"DESC_FAMILIA\"]]\n",
    "venta_articulo=pd.merge(articulo_familia, VENTA).iloc[:,0:6]\n",
    "ventas_suma_precio=venta_articulo.groupby(\"COD_FAMILIA\").sum()\n",
    "lista_precios_float=[]\n",
    "for precio in ventas_suma_precio[\"PRECIO\"]:\n",
    "    lista_precios_float.append(float(precio))\n",
    "ventas_suma_precio[\"PRECIO_FLOAT\"]=lista_precios_float\n",
    "precio_formato_100=ventas_suma_precio[ventas_suma_precio[\"PRECIO_FLOAT\"]>100]\n",
    "#CAMPAÑAS:\n",
    "campania_departamento=pd.merge(CAMPANIA,DEPTO_CAMPANIA)[[\"ID_CAMPANIA\",\"ID_DPTO\"]]\n",
    "campania_referencia=pd.merge(campania_departamento,ARTICULO)[[\"ID_CAMPANIA\",\"REFERENCIA\"]]\n",
    "campania_precio=pd.merge(campania_referencia,VENTA)[[\"ID_CAMPANIA\",\"REFERENCIA\",\"PRECIO\"]]\n",
    "campania_total=campania_precio.groupby(\"ID_CAMPANIA\").sum()"
   ]
  },
  {
   "cell_type": "code",
   "execution_count": 320,
   "metadata": {},
   "outputs": [
    {
     "data": {
      "text/html": [
       "<div>\n",
       "<style scoped>\n",
       "    .dataframe tbody tr th:only-of-type {\n",
       "        vertical-align: middle;\n",
       "    }\n",
       "\n",
       "    .dataframe tbody tr th {\n",
       "        vertical-align: top;\n",
       "    }\n",
       "\n",
       "    .dataframe thead th {\n",
       "        text-align: right;\n",
       "    }\n",
       "</style>\n",
       "<table border=\"1\" class=\"dataframe\">\n",
       "  <thead>\n",
       "    <tr style=\"text-align: right;\">\n",
       "      <th></th>\n",
       "      <th>PRECIO</th>\n",
       "      <th>PRECIO_FLOAT</th>\n",
       "    </tr>\n",
       "    <tr>\n",
       "      <th>COD_FAMILIA</th>\n",
       "      <th></th>\n",
       "      <th></th>\n",
       "    </tr>\n",
       "  </thead>\n",
       "  <tbody>\n",
       "    <tr>\n",
       "      <th>2F1</th>\n",
       "      <td>313.85</td>\n",
       "      <td>313.85</td>\n",
       "    </tr>\n",
       "  </tbody>\n",
       "</table>\n",
       "</div>"
      ],
      "text/plain": [
       "             PRECIO  PRECIO_FLOAT\n",
       "COD_FAMILIA                      \n",
       "2F1          313.85        313.85"
      ]
     },
     "execution_count": 320,
     "metadata": {},
     "output_type": "execute_result"
    }
   ],
   "source": [
    "precio_formato_100"
   ]
  },
  {
   "cell_type": "code",
   "execution_count": 321,
   "metadata": {},
   "outputs": [
    {
     "data": {
      "text/html": [
       "<div>\n",
       "<style scoped>\n",
       "    .dataframe tbody tr th:only-of-type {\n",
       "        vertical-align: middle;\n",
       "    }\n",
       "\n",
       "    .dataframe tbody tr th {\n",
       "        vertical-align: top;\n",
       "    }\n",
       "\n",
       "    .dataframe thead th {\n",
       "        text-align: right;\n",
       "    }\n",
       "</style>\n",
       "<table border=\"1\" class=\"dataframe\">\n",
       "  <thead>\n",
       "    <tr style=\"text-align: right;\">\n",
       "      <th></th>\n",
       "      <th>PRECIO</th>\n",
       "    </tr>\n",
       "    <tr>\n",
       "      <th>ID_CAMPANIA</th>\n",
       "      <th></th>\n",
       "    </tr>\n",
       "  </thead>\n",
       "  <tbody>\n",
       "    <tr>\n",
       "      <th>CA2</th>\n",
       "      <td>360.84</td>\n",
       "    </tr>\n",
       "  </tbody>\n",
       "</table>\n",
       "</div>"
      ],
      "text/plain": [
       "             PRECIO\n",
       "ID_CAMPANIA        \n",
       "CA2          360.84"
      ]
     },
     "execution_count": 321,
     "metadata": {},
     "output_type": "execute_result"
    }
   ],
   "source": [
    "campania_total[campania_total[\"PRECIO\"]>100]"
   ]
  },
  {
   "cell_type": "markdown",
   "metadata": {},
   "source": [
    "## 9. Genere una o varias consultas que permitan catalogar los artículos vendidos y que no son de la Campaña CA1, según si se tratan de artículos de Ropa o Accesorios. En base a los departamentos y familias. NOTA: Se valorará la elaboración de la consulta y no la veracidad del propio catálogo)"
   ]
  },
  {
   "cell_type": "code",
   "execution_count": 322,
   "metadata": {},
   "outputs": [
    {
     "data": {
      "text/html": [
       "<div>\n",
       "<style scoped>\n",
       "    .dataframe tbody tr th:only-of-type {\n",
       "        vertical-align: middle;\n",
       "    }\n",
       "\n",
       "    .dataframe tbody tr th {\n",
       "        vertical-align: top;\n",
       "    }\n",
       "\n",
       "    .dataframe thead th {\n",
       "        text-align: right;\n",
       "    }\n",
       "</style>\n",
       "<table border=\"1\" class=\"dataframe\">\n",
       "  <thead>\n",
       "    <tr style=\"text-align: right;\">\n",
       "      <th></th>\n",
       "      <th>TALON</th>\n",
       "      <th>REFERENCIA</th>\n",
       "      <th>PRECIO</th>\n",
       "      <th>FECHA_VENTA</th>\n",
       "      <th>CLASIFICACION</th>\n",
       "      <th>CATEGORIA</th>\n",
       "    </tr>\n",
       "  </thead>\n",
       "  <tbody>\n",
       "    <tr>\n",
       "      <th>0</th>\n",
       "      <td>01</td>\n",
       "      <td>A</td>\n",
       "      <td>15.00</td>\n",
       "      <td>11/02/2012</td>\n",
       "      <td>MENOR</td>\n",
       "      <td>Accesorios</td>\n",
       "    </tr>\n",
       "    <tr>\n",
       "      <th>1</th>\n",
       "      <td>02</td>\n",
       "      <td>A</td>\n",
       "      <td>18.00</td>\n",
       "      <td>15/02/2012</td>\n",
       "      <td>MENOR</td>\n",
       "      <td>Accesorios</td>\n",
       "    </tr>\n",
       "    <tr>\n",
       "      <th>2</th>\n",
       "      <td>03</td>\n",
       "      <td>A</td>\n",
       "      <td>14.00</td>\n",
       "      <td>02/10/2013</td>\n",
       "      <td>MENOR</td>\n",
       "      <td>Accesorios</td>\n",
       "    </tr>\n",
       "    <tr>\n",
       "      <th>3</th>\n",
       "      <td>04</td>\n",
       "      <td>D</td>\n",
       "      <td>37.95</td>\n",
       "      <td>06/08/2010</td>\n",
       "      <td>MENOR</td>\n",
       "      <td>Accesorios</td>\n",
       "    </tr>\n",
       "    <tr>\n",
       "      <th>4</th>\n",
       "      <td>05</td>\n",
       "      <td>E</td>\n",
       "      <td>125.90</td>\n",
       "      <td>30/11/2010</td>\n",
       "      <td>MAYOR</td>\n",
       "      <td>Accesorios</td>\n",
       "    </tr>\n",
       "    <tr>\n",
       "      <th>5</th>\n",
       "      <td>06</td>\n",
       "      <td>E</td>\n",
       "      <td>150.00</td>\n",
       "      <td>05/02/2011</td>\n",
       "      <td>MAYOR</td>\n",
       "      <td>Ropa</td>\n",
       "    </tr>\n",
       "    <tr>\n",
       "      <th>6</th>\n",
       "      <td>07</td>\n",
       "      <td>H</td>\n",
       "      <td>22.99</td>\n",
       "      <td>11/04/2011</td>\n",
       "      <td>MENOR</td>\n",
       "      <td>Ropa</td>\n",
       "    </tr>\n",
       "    <tr>\n",
       "      <th>7</th>\n",
       "      <td>08</td>\n",
       "      <td>H</td>\n",
       "      <td>24.00</td>\n",
       "      <td>08/08/2011</td>\n",
       "      <td>MENOR</td>\n",
       "      <td>Ropa</td>\n",
       "    </tr>\n",
       "  </tbody>\n",
       "</table>\n",
       "</div>"
      ],
      "text/plain": [
       "  TALON REFERENCIA  PRECIO FECHA_VENTA CLASIFICACION   CATEGORIA\n",
       "0    01          A   15.00  11/02/2012         MENOR  Accesorios\n",
       "1    02          A   18.00  15/02/2012         MENOR  Accesorios\n",
       "2    03          A   14.00  02/10/2013         MENOR  Accesorios\n",
       "3    04          D   37.95  06/08/2010         MENOR  Accesorios\n",
       "4    05          E  125.90  30/11/2010         MAYOR  Accesorios\n",
       "5    06          E  150.00  05/02/2011         MAYOR        Ropa\n",
       "6    07          H   22.99  11/04/2011         MENOR        Ropa\n",
       "7    08          H   24.00  08/08/2011         MENOR        Ropa"
      ]
     },
     "execution_count": 322,
     "metadata": {},
     "output_type": "execute_result"
    }
   ],
   "source": [
    "ls_categ_producto=[]\n",
    "tabla_articulo_familia=pd.merge(ARTICULO,FAMILIA)\n",
    "contador=0\n",
    "for producto in tabla_articulo_familia[\"DESC_FAMILIA\"]:\n",
    "    if producto==(\"PULSERAS\"):\n",
    "        ls_categ_producto.append(\"Accesorios\")\n",
    "    if producto==(\"BOLSOS DE MANO\"):\n",
    "        ls_categ_producto.append(\"Accesorios\")\n",
    "\n",
    "    elif producto==(\"NAUTICO\"):\n",
    "        ls_categ_producto.append(\"Ropa\")\n",
    "    elif producto==(\"SANDALIAS\"):\n",
    "        ls_categ_producto.append(\"Ropa\")\n",
    "    elif producto==(\"BERMUDAS\"):\n",
    "        ls_categ_producto.append(\"Ropa\")\n",
    "    contador+=1\n",
    "VENTA[\"CATEGORIA\"]=ls_categ_producto\n",
    "VENTA"
   ]
  },
  {
   "cell_type": "markdown",
   "metadata": {},
   "source": [
    "## 10. Genere una o varias consultas que devuelvan la variación del total de venta entre años. Tomando como variación la siguiente fórmula $$\\dfrac{Year_{n} – Year_{n-1}}{Year_{n-1}}$$ (Se valorará el control de valores 0 en la división o de indeterminaciones)"
   ]
  },
  {
   "attachments": {},
   "cell_type": "markdown",
   "metadata": {},
   "source": [
    "![tablas5](../../../img/Tablas-5.png)"
   ]
  },
  {
   "cell_type": "code",
   "execution_count": 323,
   "metadata": {},
   "outputs": [
    {
     "data": {
      "text/html": [
       "<div>\n",
       "<style scoped>\n",
       "    .dataframe tbody tr th:only-of-type {\n",
       "        vertical-align: middle;\n",
       "    }\n",
       "\n",
       "    .dataframe tbody tr th {\n",
       "        vertical-align: top;\n",
       "    }\n",
       "\n",
       "    .dataframe thead th {\n",
       "        text-align: right;\n",
       "    }\n",
       "</style>\n",
       "<table border=\"1\" class=\"dataframe\">\n",
       "  <thead>\n",
       "    <tr style=\"text-align: right;\">\n",
       "      <th></th>\n",
       "      <th>PRECIO</th>\n",
       "    </tr>\n",
       "    <tr>\n",
       "      <th>ANIO_VENTA</th>\n",
       "      <th></th>\n",
       "    </tr>\n",
       "  </thead>\n",
       "  <tbody>\n",
       "    <tr>\n",
       "      <th>2010</th>\n",
       "      <td>163.85</td>\n",
       "    </tr>\n",
       "    <tr>\n",
       "      <th>2011</th>\n",
       "      <td>196.99</td>\n",
       "    </tr>\n",
       "    <tr>\n",
       "      <th>2012</th>\n",
       "      <td>33.00</td>\n",
       "    </tr>\n",
       "    <tr>\n",
       "      <th>2013</th>\n",
       "      <td>14.00</td>\n",
       "    </tr>\n",
       "  </tbody>\n",
       "</table>\n",
       "</div>"
      ],
      "text/plain": [
       "            PRECIO\n",
       "ANIO_VENTA        \n",
       "2010        163.85\n",
       "2011        196.99\n",
       "2012         33.00\n",
       "2013         14.00"
      ]
     },
     "execution_count": 323,
     "metadata": {},
     "output_type": "execute_result"
    }
   ],
   "source": [
    "lista_total_anios=[]\n",
    "for anio in VENTA[\"FECHA_VENTA\"]:\n",
    "    lista_total_anios.append(anio[-4:])\n",
    "\n",
    "VENTA[\"ANIO_VENTA\"]=lista_total_anios\n",
    "ventas_por_anio=VENTA.groupby(\"ANIO_VENTA\").sum()\n",
    "ventas_por_anio"
   ]
  },
  {
   "cell_type": "code",
   "execution_count": 324,
   "metadata": {},
   "outputs": [
    {
     "data": {
      "text/html": [
       "<div>\n",
       "<style scoped>\n",
       "    .dataframe tbody tr th:only-of-type {\n",
       "        vertical-align: middle;\n",
       "    }\n",
       "\n",
       "    .dataframe tbody tr th {\n",
       "        vertical-align: top;\n",
       "    }\n",
       "\n",
       "    .dataframe thead th {\n",
       "        text-align: right;\n",
       "    }\n",
       "</style>\n",
       "<table border=\"1\" class=\"dataframe\">\n",
       "  <thead>\n",
       "    <tr style=\"text-align: right;\">\n",
       "      <th></th>\n",
       "      <th>ANIO_1</th>\n",
       "      <th>ANIO_2</th>\n",
       "      <th>VARIACION</th>\n",
       "    </tr>\n",
       "  </thead>\n",
       "  <tbody>\n",
       "    <tr>\n",
       "      <th>0</th>\n",
       "      <td>2013</td>\n",
       "      <td>2012</td>\n",
       "      <td>33.14</td>\n",
       "    </tr>\n",
       "    <tr>\n",
       "      <th>1</th>\n",
       "      <td>2012</td>\n",
       "      <td>2011</td>\n",
       "      <td>-163.99</td>\n",
       "    </tr>\n",
       "    <tr>\n",
       "      <th>2</th>\n",
       "      <td>2011</td>\n",
       "      <td>2010</td>\n",
       "      <td>-19.00</td>\n",
       "    </tr>\n",
       "  </tbody>\n",
       "</table>\n",
       "</div>"
      ],
      "text/plain": [
       "  ANIO_1 ANIO_2  VARIACION\n",
       "0   2013   2012      33.14\n",
       "1   2012   2011    -163.99\n",
       "2   2011   2010     -19.00"
      ]
     },
     "execution_count": 324,
     "metadata": {},
     "output_type": "execute_result"
    }
   ],
   "source": [
    "anios_unicos=set(lista_total_anios)\n",
    "lista_anios_unicos=sorted(list(anios_unicos), reverse=True)\n",
    "resultado_variacion={\"ANIO_1\":[],\"ANIO_2\":[],\"VARIACION\":[]}\n",
    "\n",
    "lista_precios=[]\n",
    "lista_variacion=[]\n",
    "for precio in ventas_por_anio[\"PRECIO\"]:\n",
    "    lista_precios.append(float(precio))\n",
    "\n",
    "index=1\n",
    "while index<len(lista_precios):\n",
    "    try:\n",
    "        lista_variacion.append(lista_precios[index]-lista_precios[index-1])/lista_precios[index-1]\n",
    "    except:\n",
    "        pass\n",
    "    index+=1\n",
    "\n",
    "resultado_variacion[\"ANIO_1\"]=lista_anios_unicos[:-1:1]\n",
    "resultado_variacion[\"ANIO_2\"]=lista_anios_unicos[1::1]\n",
    "resultado_variacion[\"VARIACION\"]=lista_variacion\n",
    "pd.DataFrame(resultado_variacion)"
   ]
  }
 ],
 "metadata": {
  "interpreter": {
   "hash": "bbecac44435c2c981f643c81cfe05fa1d6ef605eda7f5952ee2b272fedf4993e"
  },
  "kernelspec": {
   "display_name": "Python 3.7.4 64-bit",
   "language": "python",
   "name": "python3"
  },
  "language_info": {
   "codemirror_mode": {
    "name": "ipython",
    "version": 3
   },
   "file_extension": ".py",
   "mimetype": "text/x-python",
   "name": "python",
   "nbconvert_exporter": "python",
   "pygments_lexer": "ipython3",
   "version": "3.7.4"
  },
  "orig_nbformat": 4
 },
 "nbformat": 4,
 "nbformat_minor": 2
}
