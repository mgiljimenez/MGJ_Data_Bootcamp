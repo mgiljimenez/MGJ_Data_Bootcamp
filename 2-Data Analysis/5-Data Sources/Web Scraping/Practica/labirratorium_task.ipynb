{
  "cells": [
    {
      "attachments": {},
      "cell_type": "markdown",
      "metadata": {
        "id": "QyPiRC5a9RZ2"
      },
      "source": [
        "###  Pasos a seguir en el proceso de 'scraping':\n",
        "\n",
        "1. Encuentra la URL que quieres 'escrapear'.\n",
        "2. Inspecciona la página (código fuente).\n",
        "3. Localiza los datos que necesitas obtener.\n",
        "4. Desarrolla tu código en Python.\n",
        "    1. Crea tu sopa\n",
        "    2. Busca los elementos que cotienen los datos y extráelos\n",
        "5. Ejecuta tu código y obten los datos.\n",
        "6. Almacena los datos en el formato requerido."
      ]
    },
    {
      "cell_type": "code",
      "execution_count": 3,
      "metadata": {
        "id": "dDcNNE0z9RZ8"
      },
      "outputs": [],
      "source": [
        "# Importamos librerías\n",
        "import requests\n",
        "from bs4 import BeautifulSoup\n",
        "import pandas as pd"
      ]
    },
    {
      "cell_type": "markdown",
      "metadata": {
        "id": "C3PbnMEH9RZ9"
      },
      "source": [
        "## Caso 1: Scraping de un catálogo: Labirratorium"
      ]
    },
    {
      "cell_type": "code",
      "execution_count": 4,
      "metadata": {
        "id": "qMIaXLf-9RZ-"
      },
      "outputs": [],
      "source": [
        "URL = \"https://www.labirratorium.com/es/67-cervezas-por-estilo?page=\"\n",
        "response = requests.get(URL)\n",
        "html = response.content\n",
        "\n",
        "# Parsear el HTML con BeautifulSoup\n",
        "contenido = BeautifulSoup(html, 'lxml')"
      ]
    },
    {
      "cell_type": "markdown",
      "metadata": {
        "id": "p_S9x1Yu9RZ-"
      },
      "source": [
        "Queremos obtener un dataFrame con todas las cervezas del catálogo y sus características descritas. Analizamos la página para ver qué tenemos que hacer para conseguirlo"
      ]
    },
    {
      "cell_type": "code",
      "execution_count": 5,
      "metadata": {
        "id": "6GfrzXyX9RZ-"
      },
      "outputs": [],
      "source": [
        "# La web tiene XX páginas con XX cervezas listadas en cada página.\n",
        "lista_paginas=[]\n",
        "for i in range(1,50):\n",
        "    lista_paginas.append(URL+str(i))\n",
        "    \n",
        "#Lista con todos los productos que existen la página\n",
        "productos=[]\n",
        "\n",
        "for pagina in lista_paginas:\n",
        "    enlaces = contenido.find_all(\"a\", class_=\"thumbnail product-thumbnail\")\n",
        "    for enlace in enlaces:\n",
        "        primer_enlace = enlace['href']\n",
        "        productos.append(primer_enlace)"
      ]
    },
    {
      "cell_type": "code",
      "execution_count": 84,
      "metadata": {},
      "outputs": [
        {
          "data": {
            "text/html": [
              "<div>\n",
              "<style scoped>\n",
              "    .dataframe tbody tr th:only-of-type {\n",
              "        vertical-align: middle;\n",
              "    }\n",
              "\n",
              "    .dataframe tbody tr th {\n",
              "        vertical-align: top;\n",
              "    }\n",
              "\n",
              "    .dataframe thead th {\n",
              "        text-align: right;\n",
              "    }\n",
              "</style>\n",
              "<table border=\"1\" class=\"dataframe\">\n",
              "  <thead>\n",
              "    <tr style=\"text-align: right;\">\n",
              "      <th></th>\n",
              "      <th>Nombre</th>\n",
              "      <th>Descripción</th>\n",
              "    </tr>\n",
              "  </thead>\n",
              "  <tbody>\n",
              "    <tr>\n",
              "      <th>0</th>\n",
              "      <td>SanFrutos Vikingathor Boris Brew</td>\n",
              "      <td>Cerveza de 8.2% ABV intensa, oscura y muy lupu...</td>\n",
              "    </tr>\n",
              "    <tr>\n",
              "      <th>1</th>\n",
              "      <td>Boon Oude Kriek 37,5cl</td>\n",
              "      <td>Cerveza de fermentación espontánea (Lambic) de...</td>\n",
              "    </tr>\n",
              "    <tr>\n",
              "      <th>2</th>\n",
              "      <td>Störtebeker Schwarz-Bier</td>\n",
              "      <td>Cerveza negra de baja fermentación de estilo S...</td>\n",
              "    </tr>\n",
              "    <tr>\n",
              "      <th>3</th>\n",
              "      <td>Orval</td>\n",
              "      <td>Orval es una cerveza tipo ale y es la que prin...</td>\n",
              "    </tr>\n",
              "    <tr>\n",
              "      <th>4</th>\n",
              "      <td>Augustiner Lagerbier Hell</td>\n",
              "      <td>Cerveza de baja fermentación de estilo Munich ...</td>\n",
              "    </tr>\n",
              "    <tr>\n",
              "      <th>...</th>\n",
              "      <td>...</td>\n",
              "      <td>...</td>\n",
              "    </tr>\n",
              "    <tr>\n",
              "      <th>583</th>\n",
              "      <td>Samuel Adams Boston Lager</td>\n",
              "      <td>Apariencia: color ambarino cobrizo y espuma pe...</td>\n",
              "    </tr>\n",
              "    <tr>\n",
              "      <th>584</th>\n",
              "      <td>Westmalle Dubbel</td>\n",
              "      <td>Cerveza Trapista belga con 7% ABV de color mar...</td>\n",
              "    </tr>\n",
              "    <tr>\n",
              "      <th>585</th>\n",
              "      <td>Duchesse De Bourgogne</td>\n",
              "      <td>Cerveza belga de estilo Ale Roja de 6.2% ABV d...</td>\n",
              "    </tr>\n",
              "    <tr>\n",
              "      <th>586</th>\n",
              "      <td>Tripel Karmeliet 33 cl.</td>\n",
              "      <td>Cerveza de estilo Belgian Tripel con 8.4% ABV....</td>\n",
              "    </tr>\n",
              "    <tr>\n",
              "      <th>587</th>\n",
              "      <td>Weihenstephaner Vitus</td>\n",
              "      <td>Cerveza refrescante de trigo fuerte y aromátic...</td>\n",
              "    </tr>\n",
              "  </tbody>\n",
              "</table>\n",
              "<p>588 rows × 2 columns</p>\n",
              "</div>"
            ],
            "text/plain": [
              "                               Nombre  \\\n",
              "0    SanFrutos Vikingathor Boris Brew   \n",
              "1              Boon Oude Kriek 37,5cl   \n",
              "2            Störtebeker Schwarz-Bier   \n",
              "3                               Orval   \n",
              "4           Augustiner Lagerbier Hell   \n",
              "..                                ...   \n",
              "583         Samuel Adams Boston Lager   \n",
              "584                  Westmalle Dubbel   \n",
              "585             Duchesse De Bourgogne   \n",
              "586           Tripel Karmeliet 33 cl.   \n",
              "587             Weihenstephaner Vitus   \n",
              "\n",
              "                                           Descripción  \n",
              "0    Cerveza de 8.2% ABV intensa, oscura y muy lupu...  \n",
              "1    Cerveza de fermentación espontánea (Lambic) de...  \n",
              "2    Cerveza negra de baja fermentación de estilo S...  \n",
              "3    Orval es una cerveza tipo ale y es la que prin...  \n",
              "4    Cerveza de baja fermentación de estilo Munich ...  \n",
              "..                                                 ...  \n",
              "583  Apariencia: color ambarino cobrizo y espuma pe...  \n",
              "584  Cerveza Trapista belga con 7% ABV de color mar...  \n",
              "585  Cerveza belga de estilo Ale Roja de 6.2% ABV d...  \n",
              "586  Cerveza de estilo Belgian Tripel con 8.4% ABV....  \n",
              "587  Cerveza refrescante de trigo fuerte y aromátic...  \n",
              "\n",
              "[588 rows x 2 columns]"
            ]
          },
          "execution_count": 84,
          "metadata": {},
          "output_type": "execute_result"
        }
      ],
      "source": [
        "dic_productos={\"Nombre\":[],\"Descripción\":[]}\n",
        "for producto in productos:\n",
        "    response = requests.get(producto)\n",
        "    soup = BeautifulSoup(response.content, 'html.parser')\n",
        "    nombre = soup.find_all('h1', {'class': 'product-detail-name'})\n",
        "    descripcion = soup.find_all('div', {'class': 'product-description'})\n",
        "    dic_productos['Nombre'].append(nombre[0].text.strip())\n",
        "    dic_productos['Descripción'].append(descripcion[0].text.strip())\n",
        "\n",
        "\n",
        "pd.DataFrame(dic_productos)\n",
        "\n"
      ]
    },
    {
      "cell_type": "markdown",
      "metadata": {
        "id": "fkQqvgLS9RaG"
      },
      "source": [
        "### Ya sabemos obtener todos los datos que nos interesan de una cerveza, ahora tenemos que aplicar esta lógica para obtener todas las demás "
      ]
    },
    {
      "cell_type": "markdown",
      "metadata": {
        "id": "hk8euclh9RaG"
      },
      "source": [
        "Construir un DataFrame con \n",
        "\n",
        "Nombre,\tprecio,\tdescripcion corta, descripción larga, ruta imagen, marca, barcode,\tEstilo, Origen, % Alc., % Alc. Exacto, Volumen (Cl), Tipo Fermentación, IBU, IBU Exacto, Color, Envase"
      ]
    },
    {
      "cell_type": "code",
      "execution_count": 82,
      "metadata": {},
      "outputs": [],
      "source": [
        "import requests\n",
        "from bs4 import BeautifulSoup\n",
        "\n",
        "\n",
        "data_beers = {\"Nombre\":[], \"Descripcion\":[], \"Img\":[], \"Estilo\":[]}\n",
        "\n",
        "for producto in productos:\n",
        "    response = requests.get(producto)\n",
        "    soup = BeautifulSoup(response.content, 'html.parser')\n",
        "    try:\n",
        "        nombre = soup.find_all('h1', {'class': 'product-detail-name'})\n",
        "    except:\n",
        "        nombre = \"\"\n",
        "    try:\n",
        "        descripcion = soup.find_all('div', {'class': 'product-description'})\n",
        "    except:\n",
        "        descripcion = \"\"\n",
        "    try:\n",
        "        img = soup.find('img', {'class': 'js-qv-product-cover img-fluid'})\n",
        "    except:\n",
        "        img = \"\"\n",
        "    try:\n",
        "        estilo = soup.find('dd', {'class': 'value'})\n",
        "    except:\n",
        "        estilo = \"\"\n",
        "\n",
        "    data_beers['Nombre'].append(nombre[0].text.strip() if nombre else \"\")\n",
        "    data_beers['Descripcion'].append(descripcion[0].text.strip() if descripcion else \"\")\n",
        "    data_beers['Img'].append(img[\"src\"] if img else \"\")\n",
        "    data_beers['Estilo'].append(estilo.text.strip() if estilo else \"\")"
      ]
    },
    {
      "cell_type": "code",
      "execution_count": 83,
      "metadata": {},
      "outputs": [
        {
          "data": {
            "text/html": [
              "<div>\n",
              "<style scoped>\n",
              "    .dataframe tbody tr th:only-of-type {\n",
              "        vertical-align: middle;\n",
              "    }\n",
              "\n",
              "    .dataframe tbody tr th {\n",
              "        vertical-align: top;\n",
              "    }\n",
              "\n",
              "    .dataframe thead th {\n",
              "        text-align: right;\n",
              "    }\n",
              "</style>\n",
              "<table border=\"1\" class=\"dataframe\">\n",
              "  <thead>\n",
              "    <tr style=\"text-align: right;\">\n",
              "      <th></th>\n",
              "      <th>Nombre</th>\n",
              "      <th>Descripcion</th>\n",
              "      <th>Img</th>\n",
              "      <th>Estilo</th>\n",
              "    </tr>\n",
              "  </thead>\n",
              "  <tbody>\n",
              "    <tr>\n",
              "      <th>0</th>\n",
              "      <td>SanFrutos Vikingathor Boris Brew</td>\n",
              "      <td>Cerveza de 8.2% ABV intensa, oscura y muy lupu...</td>\n",
              "      <td>https://www.labirratorium.com/27941-large_defa...</td>\n",
              "      <td>DUNKEL</td>\n",
              "    </tr>\n",
              "    <tr>\n",
              "      <th>1</th>\n",
              "      <td>Boon Oude Kriek 37,5cl</td>\n",
              "      <td>Cerveza de fermentación espontánea (Lambic) de...</td>\n",
              "      <td>https://www.labirratorium.com/19351-large_defa...</td>\n",
              "      <td>KRIEK</td>\n",
              "    </tr>\n",
              "    <tr>\n",
              "      <th>2</th>\n",
              "      <td>Störtebeker Schwarz-Bier</td>\n",
              "      <td>Cerveza negra de baja fermentación de estilo S...</td>\n",
              "      <td>https://www.labirratorium.com/488-large_defaul...</td>\n",
              "      <td>SCHWARZBIER</td>\n",
              "    </tr>\n",
              "    <tr>\n",
              "      <th>3</th>\n",
              "      <td>Orval</td>\n",
              "      <td>Orval es una cerveza tipo ale y es la que prin...</td>\n",
              "      <td>https://www.labirratorium.com/385-large_defaul...</td>\n",
              "      <td>BELGIAN PALE ALE</td>\n",
              "    </tr>\n",
              "    <tr>\n",
              "      <th>4</th>\n",
              "      <td>Augustiner Lagerbier Hell</td>\n",
              "      <td>Cerveza de baja fermentación de estilo Munich ...</td>\n",
              "      <td>https://www.labirratorium.com/367-large_defaul...</td>\n",
              "      <td>MUNICH HELLES</td>\n",
              "    </tr>\n",
              "    <tr>\n",
              "      <th>...</th>\n",
              "      <td>...</td>\n",
              "      <td>...</td>\n",
              "      <td>...</td>\n",
              "      <td>...</td>\n",
              "    </tr>\n",
              "    <tr>\n",
              "      <th>583</th>\n",
              "      <td>Samuel Adams Boston Lager</td>\n",
              "      <td>Apariencia: color ambarino cobrizo y espuma pe...</td>\n",
              "      <td>https://www.labirratorium.com/343-large_defaul...</td>\n",
              "      <td>AMERICAN LAGER</td>\n",
              "    </tr>\n",
              "    <tr>\n",
              "      <th>584</th>\n",
              "      <td>Westmalle Dubbel</td>\n",
              "      <td>Cerveza Trapista belga con 7% ABV de color mar...</td>\n",
              "      <td>https://www.labirratorium.com/102-large_defaul...</td>\n",
              "      <td>DUBBEL</td>\n",
              "    </tr>\n",
              "    <tr>\n",
              "      <th>585</th>\n",
              "      <td>Duchesse De Bourgogne</td>\n",
              "      <td>Cerveza belga de estilo Ale Roja de 6.2% ABV d...</td>\n",
              "      <td>https://www.labirratorium.com/12300-large_defa...</td>\n",
              "      <td>FLANDERS RED ALE\\nOUD BRUIN\\nOud Bruin / Frand...</td>\n",
              "    </tr>\n",
              "    <tr>\n",
              "      <th>586</th>\n",
              "      <td>Tripel Karmeliet 33 cl.</td>\n",
              "      <td>Cerveza de estilo Belgian Tripel con 8.4% ABV....</td>\n",
              "      <td>https://www.labirratorium.com/81-large_default...</td>\n",
              "      <td>Bélgica</td>\n",
              "    </tr>\n",
              "    <tr>\n",
              "      <th>587</th>\n",
              "      <td>Weihenstephaner Vitus</td>\n",
              "      <td>Cerveza refrescante de trigo fuerte y aromátic...</td>\n",
              "      <td>https://www.labirratorium.com/43-large_default...</td>\n",
              "      <td>TRIGO ALEMÁN (WEIZENDOPPELBOCK)</td>\n",
              "    </tr>\n",
              "  </tbody>\n",
              "</table>\n",
              "<p>588 rows × 4 columns</p>\n",
              "</div>"
            ],
            "text/plain": [
              "                               Nombre  \\\n",
              "0    SanFrutos Vikingathor Boris Brew   \n",
              "1              Boon Oude Kriek 37,5cl   \n",
              "2            Störtebeker Schwarz-Bier   \n",
              "3                               Orval   \n",
              "4           Augustiner Lagerbier Hell   \n",
              "..                                ...   \n",
              "583         Samuel Adams Boston Lager   \n",
              "584                  Westmalle Dubbel   \n",
              "585             Duchesse De Bourgogne   \n",
              "586           Tripel Karmeliet 33 cl.   \n",
              "587             Weihenstephaner Vitus   \n",
              "\n",
              "                                           Descripcion  \\\n",
              "0    Cerveza de 8.2% ABV intensa, oscura y muy lupu...   \n",
              "1    Cerveza de fermentación espontánea (Lambic) de...   \n",
              "2    Cerveza negra de baja fermentación de estilo S...   \n",
              "3    Orval es una cerveza tipo ale y es la que prin...   \n",
              "4    Cerveza de baja fermentación de estilo Munich ...   \n",
              "..                                                 ...   \n",
              "583  Apariencia: color ambarino cobrizo y espuma pe...   \n",
              "584  Cerveza Trapista belga con 7% ABV de color mar...   \n",
              "585  Cerveza belga de estilo Ale Roja de 6.2% ABV d...   \n",
              "586  Cerveza de estilo Belgian Tripel con 8.4% ABV....   \n",
              "587  Cerveza refrescante de trigo fuerte y aromátic...   \n",
              "\n",
              "                                                   Img  \\\n",
              "0    https://www.labirratorium.com/27941-large_defa...   \n",
              "1    https://www.labirratorium.com/19351-large_defa...   \n",
              "2    https://www.labirratorium.com/488-large_defaul...   \n",
              "3    https://www.labirratorium.com/385-large_defaul...   \n",
              "4    https://www.labirratorium.com/367-large_defaul...   \n",
              "..                                                 ...   \n",
              "583  https://www.labirratorium.com/343-large_defaul...   \n",
              "584  https://www.labirratorium.com/102-large_defaul...   \n",
              "585  https://www.labirratorium.com/12300-large_defa...   \n",
              "586  https://www.labirratorium.com/81-large_default...   \n",
              "587  https://www.labirratorium.com/43-large_default...   \n",
              "\n",
              "                                                Estilo  \n",
              "0                                               DUNKEL  \n",
              "1                                                KRIEK  \n",
              "2                                          SCHWARZBIER  \n",
              "3                                     BELGIAN PALE ALE  \n",
              "4                                        MUNICH HELLES  \n",
              "..                                                 ...  \n",
              "583                                     AMERICAN LAGER  \n",
              "584                                             DUBBEL  \n",
              "585  FLANDERS RED ALE\\nOUD BRUIN\\nOud Bruin / Frand...  \n",
              "586                                            Bélgica  \n",
              "587                    TRIGO ALEMÁN (WEIZENDOPPELBOCK)  \n",
              "\n",
              "[588 rows x 4 columns]"
            ]
          },
          "execution_count": 83,
          "metadata": {},
          "output_type": "execute_result"
        }
      ],
      "source": [
        "pd.DataFrame(data_beers)"
      ]
    }
  ],
  "metadata": {
    "colab": {
      "name": "labirratorium_task Juan Jose Rodriguez.ipynb",
      "provenance": []
    },
    "hide_input": false,
    "interpreter": {
      "hash": "7c77fdb427e7cbc9bc1367dd530fc2b36aacdbbde1ac83c85833b10dfa8b831c"
    },
    "kernelspec": {
      "display_name": "Python 3.7.4 64-bit",
      "name": "python3"
    },
    "language_info": {
      "codemirror_mode": {
        "name": "ipython",
        "version": 3
      },
      "file_extension": ".py",
      "mimetype": "text/x-python",
      "name": "python",
      "nbconvert_exporter": "python",
      "pygments_lexer": "ipython3",
      "version": "3.7.4"
    },
    "metadata": {
      "interpreter": {
        "hash": "5c4d2f1fdcd3716c7a5eea90ad07be30193490dd4e63617705244f5fd89ea793"
      }
    },
    "varInspector": {
      "cols": {
        "lenName": 16,
        "lenType": 16,
        "lenVar": 40
      },
      "kernels_config": {
        "python": {
          "delete_cmd_postfix": "",
          "delete_cmd_prefix": "del ",
          "library": "var_list.py",
          "varRefreshCmd": "print(var_dic_list())"
        },
        "r": {
          "delete_cmd_postfix": ") ",
          "delete_cmd_prefix": "rm(",
          "library": "var_list.r",
          "varRefreshCmd": "cat(var_dic_list()) "
        }
      },
      "types_to_exclude": [
        "module",
        "function",
        "builtin_function_or_method",
        "instance",
        "_Feature"
      ],
      "window_display": false
    }
  },
  "nbformat": 4,
  "nbformat_minor": 0
}
