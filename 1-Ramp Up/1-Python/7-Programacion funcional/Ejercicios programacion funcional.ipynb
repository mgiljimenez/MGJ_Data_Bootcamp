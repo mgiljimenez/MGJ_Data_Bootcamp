{
 "cells": [
  {
   "cell_type": "markdown",
   "metadata": {},
   "source": [
    "![imagen](./img/ejercicios.png)\n",
    "\n",
    "# Ejercicios Programación funcional\n",
    "## Ejercicio 1\n",
    "Utiliza `reduce` para concatenar estas palabras en una frase\n",
    "```Python\n",
    "ejer_1 = (\"to\", \"be\", \"or\", \"not\", \"to\", \"be\", \"that\", \"is\", \"the\", \"question\")\n",
    "```"
   ]
  },
  {
   "cell_type": "code",
   "execution_count": 2,
   "metadata": {},
   "outputs": [
    {
     "data": {
      "text/plain": [
       "'to be or not to be that is the question'"
      ]
     },
     "execution_count": 2,
     "metadata": {},
     "output_type": "execute_result"
    }
   ],
   "source": [
    "from functools import reduce\n",
    "\n",
    "ejer_1 = (\"to\", \"be\", \"or\", \"not\", \"to\", \"be\", \"that\", \"is\", \"the\", \"question\")\n",
    "(reduce(lambda x,y: x+\" \"+y, ejer_1))"
   ]
  },
  {
   "cell_type": "markdown",
   "metadata": {},
   "source": [
    "## Ejercicio 2\n",
    "Obtén una nueva tupla con el cuadrado de cada elemento de la siguiente tupla\n",
    "\n",
    "```Python\n",
    "ejer_2 = (1,2,3,4,5)\n",
    "```"
   ]
  },
  {
   "cell_type": "code",
   "execution_count": 4,
   "metadata": {},
   "outputs": [
    {
     "data": {
      "text/plain": [
       "[1, 4, 9, 16, 25]"
      ]
     },
     "execution_count": 4,
     "metadata": {},
     "output_type": "execute_result"
    }
   ],
   "source": [
    "ejer_2 = (1,2,3,4,5)\n",
    "out_map=map(lambda x: x**2, ejer_2)\n",
    "\n",
    "list(out_map)"
   ]
  },
  {
   "cell_type": "markdown",
   "metadata": {},
   "source": [
    "## Ejercicio 3\n",
    "Filtra aquellos elementos que sean multiplos de 3 o de 5\n",
    "```Python\n",
    "ejer_3 = (1,2,3,4,5,15,21,22,33,34,35)\n",
    "```"
   ]
  },
  {
   "cell_type": "code",
   "execution_count": 5,
   "metadata": {},
   "outputs": [
    {
     "data": {
      "text/plain": [
       "[3, 5, 15, 21, 33, 35]"
      ]
     },
     "execution_count": 5,
     "metadata": {},
     "output_type": "execute_result"
    }
   ],
   "source": [
    "ejer_3 = (1,2,3,4,5,15,21,22,33,34,35)\n",
    "list(filter(lambda x: (x%3==0) or (x%5==0), ejer_3))"
   ]
  },
  {
   "cell_type": "markdown",
   "metadata": {},
   "source": [
    "## Ejercicio 4\n",
    "Convierte la siguiente tupla de pesetas a euros\n",
    "```Python\n",
    "ejer_4 = (1000, 8000, 20000000, 40000000)\n",
    "```"
   ]
  },
  {
   "cell_type": "code",
   "execution_count": 9,
   "metadata": {},
   "outputs": [
    {
     "data": {
      "text/plain": [
       "[6.01, 48.08, 120202.42, 240404.84]"
      ]
     },
     "execution_count": 9,
     "metadata": {},
     "output_type": "execute_result"
    }
   ],
   "source": [
    "ejer_4 = (1000, 8000, 20000000, 40000000)\n",
    "\n",
    "out_map=map(lambda x: round(x/166.386,2), ejer_4)\n",
    "list(out_map)"
   ]
  },
  {
   "attachments": {},
   "cell_type": "markdown",
   "metadata": {},
   "source": [
    "## Ejercicio 5\n",
    "Convierte la siguiente lista de desconocidos a mayusculas\n",
    "```Python\n",
    "ejer_5 = (\"Arya\", \"John\", \"Robb\", \"Bran\", \"Sansa\", \"Rickon\")\n",
    "```"
   ]
  },
  {
   "cell_type": "code",
   "execution_count": 10,
   "metadata": {},
   "outputs": [
    {
     "data": {
      "text/plain": [
       "['ARYA', 'JOHN', 'ROBB', 'BRAN', 'SANSA', 'RICKON']"
      ]
     },
     "execution_count": 10,
     "metadata": {},
     "output_type": "execute_result"
    }
   ],
   "source": [
    "ejer_5 = (\"Arya\", \"John\", \"Robb\", \"Bran\", \"Sansa\", \"Rickon\")\n",
    "out_map=map(lambda x: x.upper(), ejer_5)\n",
    "list(out_map)"
   ]
  },
  {
   "cell_type": "markdown",
   "metadata": {},
   "source": [
    "## Ejercicio 6\n",
    "Realiza un conversor de dias de la semana en texto a numerico (1-7), usando `map`.\n",
    "```Python\n",
    "ejer_6 = (\"Lunes\", \"Martes\", \"Miércoles\", \"Jueves\", \"Viernes\", \"Sábado\", \"Domingo\")\n",
    "```"
   ]
  },
  {
   "cell_type": "code",
   "execution_count": 29,
   "metadata": {},
   "outputs": [
    {
     "data": {
      "text/plain": [
       "[1, 2, 3, 4, 5, 6, 7]"
      ]
     },
     "execution_count": 29,
     "metadata": {},
     "output_type": "execute_result"
    }
   ],
   "source": [
    "ejer_6 = (\"Lunes\", \"Martes\", \"Miércoles\", \"Jueves\", \"Viernes\", \"Sábado\", \"Domingo\")\n",
    "dias={\"Lunes\":1, \"Martes\":2, \"Miércoles\":3, \"Jueves\":4, \"Viernes\":5, \"Sábado\":6, \"Domingo\":7}\n",
    "out_map=map(lambda x: dias[x], ejer_6)\n",
    "list(out_map)"
   ]
  },
  {
   "cell_type": "markdown",
   "metadata": {},
   "source": [
    "## Ejercicio 7\n",
    "Utiliza `map` para multiplicar elemento a elemento estas dos tuplas\n",
    "```Python\n",
    "ejer_7_1 = (2, 5, 8)\n",
    "ejer_7_2 = (6, 3, 2)\n",
    "```"
   ]
  },
  {
   "cell_type": "code",
   "execution_count": 30,
   "metadata": {},
   "outputs": [
    {
     "name": "stdout",
     "output_type": "stream",
     "text": [
      "[12, 15, 16]\n"
     ]
    }
   ],
   "source": [
    "ejer_7_1 = (2, 5, 8)\n",
    "ejer_7_2 = (6, 3, 2)\n",
    "\n",
    "out_map=map(lambda x,y: x*y, ejer_7_1,ejer_7_2)\n",
    "\n",
    "print(list(out_map))"
   ]
  },
  {
   "cell_type": "markdown",
   "metadata": {},
   "source": [
    "## Ejercicio 8\n",
    "Crea una tupla nueva con todos los coches que no sean VW :)\n",
    "\n",
    "```Python\n",
    "ejer_8 = (\"VW\", \"Audi\", \"Renault\", \"VW\", \"BMW\")\n",
    "```"
   ]
  },
  {
   "cell_type": "code",
   "execution_count": 34,
   "metadata": {},
   "outputs": [
    {
     "name": "stdout",
     "output_type": "stream",
     "text": [
      "['Audi', 'Renault', 'BMW']\n"
     ]
    }
   ],
   "source": [
    "ejer_8=(\"VW\", \"Audi\", \"Renault\", \"VW\", \"BMW\")\n",
    "\n",
    "filtrado=filter(lambda x: x!=\"VW\", ejer_8)\n",
    "print(list(filtrado))"
   ]
  },
  {
   "cell_type": "markdown",
   "metadata": {},
   "source": [
    "## Ejercicio 9\n",
    "Dadas las siguientes fechas en formato string, quedate con aquellas del año 2020\n",
    "\n",
    "```Python\n",
    "ejer_9 = (\"2019-04-08\", \"2020-10-10\", \"2020-01-22\", \"2019-07-13\", \"2019-02-01\")\n",
    "```"
   ]
  },
  {
   "cell_type": "code",
   "execution_count": 40,
   "metadata": {},
   "outputs": [
    {
     "name": "stdout",
     "output_type": "stream",
     "text": [
      "['2020-10-10', '2020-01-22']\n"
     ]
    }
   ],
   "source": [
    "ejer_9 = (\"2019-04-08\", \"2020-10-10\", \"2020-01-22\", \"2019-07-13\", \"2019-02-01\")\n",
    "filtrado=filter(lambda x: x[:4]==\"2020\", ejer_9)\n",
    "print(list(filtrado))"
   ]
  },
  {
   "cell_type": "markdown",
   "metadata": {},
   "source": [
    "## Ejercicio 10\n",
    "Filtra aquellos strings que sean [palíndromos](https://es.wikipedia.org/wiki/Pal%C3%ADndromo)\n",
    "```Python\n",
    "ejer_10 = (\"php\", \"w3r\", \"Python\", \"abcd\", \"Java\", \"aaa\")\n",
    "```"
   ]
  },
  {
   "cell_type": "code",
   "execution_count": 36,
   "metadata": {},
   "outputs": [
    {
     "name": "stdout",
     "output_type": "stream",
     "text": [
      "Palíndromos: ['php', 'aaa']\n"
     ]
    }
   ],
   "source": [
    "ejer_10 = (\"php\", \"w3r\", \"Python\", \"abcd\", \"Java\", \"aaa\")\n",
    "\n",
    "filtrado=filter(lambda x: x==x[::-1], ejer_10)\n",
    "print(\"Palíndromos:\", list(filtrado))"
   ]
  }
 ],
 "metadata": {
  "kernelspec": {
   "display_name": "Python 3",
   "language": "python",
   "name": "python3"
  },
  "language_info": {
   "codemirror_mode": {
    "name": "ipython",
    "version": 3
   },
   "file_extension": ".py",
   "mimetype": "text/x-python",
   "name": "python",
   "nbconvert_exporter": "python",
   "pygments_lexer": "ipython3",
   "version": "3.7.4"
  }
 },
 "nbformat": 4,
 "nbformat_minor": 4
}
