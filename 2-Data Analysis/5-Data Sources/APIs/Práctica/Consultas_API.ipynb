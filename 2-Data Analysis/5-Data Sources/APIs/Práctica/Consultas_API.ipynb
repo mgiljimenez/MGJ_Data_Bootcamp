{
 "cells": [
  {
   "cell_type": "markdown",
   "metadata": {},
   "source": [
    "# Práctica extracción de datos.\n",
    "\n",
    "El objetivo de esta práctica es descargar todos los datos de una API. La SWAPI tiene mucha información sobre el universo star wars. El objetivo de esta práctica es hacer un código para descargar TODOS los datos de SWAPI, y guardarlos en archivos .csv\n",
    "\n",
    "Puedes usar cualquier link de esta lista para acceder a la API:\n",
    "\n",
    "https://swapi.dev/  \n",
    "http://swapi.tech/  \n",
    "https://swapi.py4e.com/"
   ]
  },
  {
   "cell_type": "code",
   "execution_count": 3,
   "metadata": {},
   "outputs": [],
   "source": [
    "import requests\n",
    "import json\n",
    "import pandas as pd"
   ]
  },
  {
   "cell_type": "code",
   "execution_count": 48,
   "metadata": {},
   "outputs": [],
   "source": [
    "url_main=\"https://swapi.dev/api/\"\n",
    "\n",
    "response = requests.get(url_main) \n",
    "main = response.json()\n",
    "datos_main=pd.DataFrame([main])\n",
    "\n",
    "datos_main.to_csv(\"swapi_main.csv\")"
   ]
  },
  {
   "cell_type": "code",
   "execution_count": 75,
   "metadata": {},
   "outputs": [],
   "source": [
    "for datos in main.keys():\n",
    "    url=main[datos]\n",
    "    response = requests.get(url) \n",
    "    data = response.json()[\"results\"]\n",
    "    df_data=pd.DataFrame(data)\n",
    "    df_data.to_csv(f\"{datos}_swapi.csv\")\n"
   ]
  },
  {
   "cell_type": "markdown",
   "metadata": {},
   "source": []
  }
 ],
 "metadata": {
  "kernelspec": {
   "display_name": "Python 3",
   "language": "python",
   "name": "python3"
  },
  "language_info": {
   "codemirror_mode": {
    "name": "ipython",
    "version": 3
   },
   "file_extension": ".py",
   "mimetype": "text/x-python",
   "name": "python",
   "nbconvert_exporter": "python",
   "pygments_lexer": "ipython3",
   "version": "3.7.4"
  },
  "orig_nbformat": 4
 },
 "nbformat": 4,
 "nbformat_minor": 2
}
